{
  "cells": [
    {
      "cell_type": "markdown",
      "metadata": {
        "id": "view-in-github",
        "colab_type": "text"
      },
      "source": [
        "<a href=\"https://colab.research.google.com/github/Szuyingpan/Data-Programming/blob/main/Salary_Prediction_exploring_the_relationship_between_gender_and_income_equality_in_different_countries_1.ipynb\" target=\"_parent\"><img src=\"https://colab.research.google.com/assets/colab-badge.svg\" alt=\"Open In Colab\"/></a>"
      ]
    },
    {
      "cell_type": "markdown",
      "id": "ea14199a",
      "metadata": {
        "id": "ea14199a"
      },
      "source": [
        "# Salary Prediction: exploring the variables impact an individual's salary  between female and male"
      ]
    },
    {
      "cell_type": "markdown",
      "id": "61b9b977",
      "metadata": {
        "id": "61b9b977"
      },
      "source": [
        "<a id=\"0\"></a> <br> <a id=\"section_ID\"></a>\n",
        " ## Contents  \n",
        "\n",
        "1. [Aims, Objectives and Backgrounds](#1) <a id=\"section_ID\"></a>\n",
        "\n",
        "    [1.1 Introduction](#8)\n",
        "    \n",
        "    [1.2 Aims and Objective](#9)\n",
        "    \n",
        "    [1.3 Methodology (CW1)](#10)\n",
        "    \n",
        "1. [Data Preprocessing and Preparation](#2) <a id=\"section_ID\"></a>\n",
        "\n",
        "    [2.1 Import Modules](#11)\n",
        "    \n",
        "    [2.2 Data Information](#12)\n",
        "    \n",
        "    [2.3 Exploratory Data Analysis (EDA)](#13)\n",
        "    \n",
        "    [2.3.1 Detect missing values](#15)\n",
        "    \n",
        "    [2.3.2 Handle with missing values](#16)\n",
        "    \n",
        "    [2.3.3 Data Visualisation](#17)\n",
        "    \n",
        "    [2.4 Data Pre-processing](#14)\n",
        "    \n",
        "1. [Key Observations/ Insights](#3) <a id=\"section_ID\"></a>\n",
        "\n",
        "1. [Discussion/Critical Analysis (CW2)](#4)  <a id=\"section_ID\"></a>   \n",
        "\n",
        "1. [Future work](#5)  <a id=\"section_ID\"></a>\n",
        "\n",
        "1. [References](#6)     <a id=\"section_ID\"></a>\n",
        "\n",
        "1. [Resources Used](#7)   <a id=\"section_ID\"></a>    \n",
        "    "
      ]
    },
    {
      "cell_type": "markdown",
      "id": "68698ff7",
      "metadata": {
        "id": "68698ff7"
      },
      "source": [
        "<a id=\"1\"></a>\n",
        "## Aims, Objectives and Backgrounds\n",
        "<a id=\"8\"></a>\n",
        "### Introduction"
      ]
    },
    {
      "cell_type": "markdown",
      "id": "359f449c",
      "metadata": {
        "id": "359f449c"
      },
      "source": [
        "The pay equity has been a topic of interest in our society over the last several decades. Accourding to From the aspect of the organization, equity means the perceived fairness between what an individual does and what the individual receives, which is also called the “subject” equity. According to equity theory, individuals care not only the absolute rewards they receive, but also the relationship of those rewards to what others receive.[1]\n",
        "\n",
        "In the early 20th century, many women were were employed in low-paying jobs, such as domestic service and textile manufacturing. At the time, legal and social norms usually jusified paying womenless. Nevertheless, the labor market has significant shifts during the World I and World War II as men went to war, and women took on jobs traditionally held by men. This resulted in some wage parity during the war years, but it did not last after the wars ended. After World War II, there was a return to more traditional gender roles, and women were encouraged to leave the workforce and focus on homemaking. Women who did work were often relegated to lower-paying, part-time, or temporary positions.\n",
        "\n",
        "The rise of the women's liberation movement in the 1960s and 1970s, it advocated for equal rights and opportunities. In the late 20th centry, despite legislative efforts, the gender pay gap persisted. Factors such as occupational segregation, lack of access to higher-paying jobs, and maternity leave policies contributed to this gap. In 21st Century, the gender pay gap remains a prominent issue in many countries, despite increased awareness and continued legal efforts. The gap has narrowed in some places, but it still exists due to a complex interplay of factors, including discrimination, lack of representation in leadership roles, and societal expectations.\n",
        "\n",
        "In 2018, Iceland has became the first country to enact an equal pay mandate, but it's a move that has been progressing there for some time. According to the World Economic Forum, Iceland has been ranked the most gender-equal country for the past nine years. Although many countries such as the United States, Canada, European Union, Australia, United Kingdom and Swenden etc have implemented or strengthened laws to ensure equal pay for equal work and helps to combat wage discrimination, regardless of gender. The results haven't been equally felt by all women. A number of studies have examined pay equity from various perspectives,including employees’perceptions and satisfaction with pay,theories for pay in equity,behavioural norms in salary negotiation,and potential solutions to solving the pay gap between women and men.[2]\n",
        "\n",
        "This project was inspired by social movements such as #MeToo and #BlackLivesMatter. The actions have garnered worldwide focus on issues concerning gender and racial inequity. In addition, these movements have created a platform for further discusssion about pay equity and prompted many individuals and organizations to reevaluate their policies and practices. Hence, numerous inquiries come to mind, such as why women have been earning less than men for decades and why advancements in achieving pay equality have been slow? Although, efforts to promote pay equity involve policy changes, cultural shifts, social norms, differences in the characteristics of the jobs and and awareness campaigns to challenge stereotypes, biases, and discriminatory practices."
      ]
    },
    {
      "cell_type": "markdown",
      "id": "13d62b7a",
      "metadata": {
        "id": "13d62b7a"
      },
      "source": [
        "<a id=\"9\"></a>\n",
        "### 1.2 Aims and objectives"
      ]
    },
    {
      "cell_type": "markdown",
      "id": "4404ba04",
      "metadata": {
        "id": "4404ba04"
      },
      "source": [
        "In this project, my primary objective is to thoroughly investigate the various variables that could potentially influence the target variables, which are gender (sex) and annual salary. The list of variables under consideration encompasses factors such as age, education, race, marital status, relationship status, work class, occupation, and more. My approach will utilise data science techniques to develop a predictive model that can discover whether an individual's income exceeds 50K annually.\n",
        "\n",
        "It's essential to clarify that my intention is not to confirm or disprove the hypothesis that females earn less than males. Instead, I aim to explore the multifaceted relationships among these variables to identify trends and insights that may have an impact on an individual's income. Within the dataset, salary has been categorized into two classes, namely, >50K or <=50K, which is a simplified representation of an individual's wealth. However, it's worth acknowledging that wealth and income can be much more complex than this binary classification suggests.\n",
        "\n",
        "One noteworthy aspect to consider is the composition of the dataset's population. The dataset comprises 32,561 individuals, with males accounting for 66.9% and females representing 33.1% of the total population. This skewed distribution is evident, and if we were to use the entire gender-based data to train our predictive model, there could be a potential bias in the results. To address this, we will employ strategies to reduce any gender-based bias in the analysis.\n",
        "\n",
        "The dataset used for this project was done by Barry Becker from the 1994 Census database. The primary objective of our prediction task is to find out whether a person's annual income exceeds 50K. The dataset consists of 15 variables, and it has been made accessible to the public for research and analysis purposes. This endeavor aims to leverage the available data and data science techniques to gain valuable insights into the factors influencing income levels."
      ]
    },
    {
      "cell_type": "markdown",
      "id": "e9850990",
      "metadata": {
        "id": "e9850990"
      },
      "source": [
        "<a id=\"10\"></a>\n",
        "### 1.3 Methodology (CW1)"
      ]
    },
    {
      "cell_type": "markdown",
      "id": "a501bb91",
      "metadata": {
        "id": "a501bb91"
      },
      "source": [
        "The overall methodology for this project follows a structured approach to ensure a comprehensive understanding of the data and effective predictive modeling.  Initially, the process commences with a thorough examination of the data, which includes inspecting data information, understanding the dataset's variables (columns), assessing its shape and data types. This foundational step sets the stage for further analysis.\n",
        "\n",
        "The next phase involves Exploratory Data Analysis (EDA), which entails identifying and addressing potential data issues. This includes examining the dataset for missing values and implementing mode for filling up them. To make the data more accessible and comprehensible to the audience, various graphs and visualizations are employed to help in the interpretation and comparison of information. Additionally, the presence of outliers is examined to ensure data bias.\n",
        "\n",
        "For categorical data, LabelEncoder or One-hot encoder is applied to convert categorical data, or text data, into numbers, making them amenable to machine learning modules. Furthermore, for the binary variables, such as salary and gender (sex), one-hot encoding is employed to transform them into a format that machine learning models can effectively utilize.\n",
        "\n",
        "In the second part of this coursework, the focus will shift towards exploring tools and techniques that can enhance the process of feature selection. Feature selection could be a critical aspect of model building, as it helps in identifying the most relevant and influential variables for predicting the target variable, in this case, salary.\n",
        "\n",
        "Finally, the project comes to an end with in the application of different machine learning models to predict salary. This stage involves training and evaluating the models to determine their performance in estimating an individual's income, contributing to a comprehensive analysis of the dataset and providing valuable insights for the research objective."
      ]
    },
    {
      "cell_type": "markdown",
      "id": "46b01fb0",
      "metadata": {
        "id": "46b01fb0"
      },
      "source": [
        "<a id=\"2\"></a>\n",
        "## 2. Data Preprocessing and Preparation\n",
        "<a id=\"11\"></a>\n",
        "### 2.1 Import Modules\n",
        "\n",
        "[Back to the top](#0)<a id=\"0\"></a>"
      ]
    },
    {
      "cell_type": "code",
      "execution_count": null,
      "id": "92252823",
      "metadata": {
        "id": "92252823"
      },
      "outputs": [],
      "source": [
        "import pandas as pd\n",
        "import numpy as np\n",
        "import matplotlib.pyplot as plt\n",
        "import seaborn as sns\n",
        "\n",
        "#from sklearn import preprocessing\n",
        "#from sklearn.preprocessing import LabelEncoder\n",
        "#from sklearn.model_selection import train_test_split\n",
        "#from sklearn.preprocessing import StandardScaler,MinMaxScaler\n",
        "#from sklearn.metrics import confusion_matrix , classification_report\n",
        "#from mlxtend.plotting import plot_confusion_matrix\n",
        "#from sklearn.metrics import accuracy_score, precision_score, recall_score, roc_auc_score\n",
        "#from sklearn.ensemble import RandomForestClassifier\n"
      ]
    },
    {
      "cell_type": "markdown",
      "id": "a881910e",
      "metadata": {
        "id": "a881910e"
      },
      "source": [
        "<a id=\"12\"></a>\n",
        "### 2.2 Data Information"
      ]
    },
    {
      "cell_type": "code",
      "execution_count": null,
      "id": "f10f9020",
      "metadata": {
        "scrolled": true,
        "id": "f10f9020",
        "outputId": "53b60581-a6c9-4779-86f6-92875b0acc7b"
      },
      "outputs": [
        {
          "data": {
            "text/html": [
              "<div>\n",
              "<style scoped>\n",
              "    .dataframe tbody tr th:only-of-type {\n",
              "        vertical-align: middle;\n",
              "    }\n",
              "\n",
              "    .dataframe tbody tr th {\n",
              "        vertical-align: top;\n",
              "    }\n",
              "\n",
              "    .dataframe thead th {\n",
              "        text-align: right;\n",
              "    }\n",
              "</style>\n",
              "<table border=\"1\" class=\"dataframe\">\n",
              "  <thead>\n",
              "    <tr style=\"text-align: right;\">\n",
              "      <th></th>\n",
              "      <th>age</th>\n",
              "      <th>workclass</th>\n",
              "      <th>fnlwgt</th>\n",
              "      <th>education</th>\n",
              "      <th>education-num</th>\n",
              "      <th>marital-status</th>\n",
              "      <th>occupation</th>\n",
              "      <th>relationship</th>\n",
              "      <th>race</th>\n",
              "      <th>sex</th>\n",
              "      <th>capital-gain</th>\n",
              "      <th>capital-loss</th>\n",
              "      <th>hours-per-week</th>\n",
              "      <th>native-country</th>\n",
              "      <th>salary</th>\n",
              "    </tr>\n",
              "  </thead>\n",
              "  <tbody>\n",
              "    <tr>\n",
              "      <th>0</th>\n",
              "      <td>39</td>\n",
              "      <td>State-gov</td>\n",
              "      <td>77516</td>\n",
              "      <td>Bachelors</td>\n",
              "      <td>13</td>\n",
              "      <td>Never-married</td>\n",
              "      <td>Adm-clerical</td>\n",
              "      <td>Not-in-family</td>\n",
              "      <td>White</td>\n",
              "      <td>Male</td>\n",
              "      <td>2174</td>\n",
              "      <td>0</td>\n",
              "      <td>40</td>\n",
              "      <td>United-States</td>\n",
              "      <td>&lt;=50K</td>\n",
              "    </tr>\n",
              "    <tr>\n",
              "      <th>1</th>\n",
              "      <td>50</td>\n",
              "      <td>Self-emp-not-inc</td>\n",
              "      <td>83311</td>\n",
              "      <td>Bachelors</td>\n",
              "      <td>13</td>\n",
              "      <td>Married-civ-spouse</td>\n",
              "      <td>Exec-managerial</td>\n",
              "      <td>Husband</td>\n",
              "      <td>White</td>\n",
              "      <td>Male</td>\n",
              "      <td>0</td>\n",
              "      <td>0</td>\n",
              "      <td>13</td>\n",
              "      <td>United-States</td>\n",
              "      <td>&lt;=50K</td>\n",
              "    </tr>\n",
              "    <tr>\n",
              "      <th>2</th>\n",
              "      <td>38</td>\n",
              "      <td>Private</td>\n",
              "      <td>215646</td>\n",
              "      <td>HS-grad</td>\n",
              "      <td>9</td>\n",
              "      <td>Divorced</td>\n",
              "      <td>Handlers-cleaners</td>\n",
              "      <td>Not-in-family</td>\n",
              "      <td>White</td>\n",
              "      <td>Male</td>\n",
              "      <td>0</td>\n",
              "      <td>0</td>\n",
              "      <td>40</td>\n",
              "      <td>United-States</td>\n",
              "      <td>&lt;=50K</td>\n",
              "    </tr>\n",
              "    <tr>\n",
              "      <th>3</th>\n",
              "      <td>53</td>\n",
              "      <td>Private</td>\n",
              "      <td>234721</td>\n",
              "      <td>11th</td>\n",
              "      <td>7</td>\n",
              "      <td>Married-civ-spouse</td>\n",
              "      <td>Handlers-cleaners</td>\n",
              "      <td>Husband</td>\n",
              "      <td>Black</td>\n",
              "      <td>Male</td>\n",
              "      <td>0</td>\n",
              "      <td>0</td>\n",
              "      <td>40</td>\n",
              "      <td>United-States</td>\n",
              "      <td>&lt;=50K</td>\n",
              "    </tr>\n",
              "    <tr>\n",
              "      <th>4</th>\n",
              "      <td>28</td>\n",
              "      <td>Private</td>\n",
              "      <td>338409</td>\n",
              "      <td>Bachelors</td>\n",
              "      <td>13</td>\n",
              "      <td>Married-civ-spouse</td>\n",
              "      <td>Prof-specialty</td>\n",
              "      <td>Wife</td>\n",
              "      <td>Black</td>\n",
              "      <td>Female</td>\n",
              "      <td>0</td>\n",
              "      <td>0</td>\n",
              "      <td>40</td>\n",
              "      <td>Cuba</td>\n",
              "      <td>&lt;=50K</td>\n",
              "    </tr>\n",
              "    <tr>\n",
              "      <th>5</th>\n",
              "      <td>37</td>\n",
              "      <td>Private</td>\n",
              "      <td>284582</td>\n",
              "      <td>Masters</td>\n",
              "      <td>14</td>\n",
              "      <td>Married-civ-spouse</td>\n",
              "      <td>Exec-managerial</td>\n",
              "      <td>Wife</td>\n",
              "      <td>White</td>\n",
              "      <td>Female</td>\n",
              "      <td>0</td>\n",
              "      <td>0</td>\n",
              "      <td>40</td>\n",
              "      <td>United-States</td>\n",
              "      <td>&lt;=50K</td>\n",
              "    </tr>\n",
              "    <tr>\n",
              "      <th>6</th>\n",
              "      <td>49</td>\n",
              "      <td>Private</td>\n",
              "      <td>160187</td>\n",
              "      <td>9th</td>\n",
              "      <td>5</td>\n",
              "      <td>Married-spouse-absent</td>\n",
              "      <td>Other-service</td>\n",
              "      <td>Not-in-family</td>\n",
              "      <td>Black</td>\n",
              "      <td>Female</td>\n",
              "      <td>0</td>\n",
              "      <td>0</td>\n",
              "      <td>16</td>\n",
              "      <td>Jamaica</td>\n",
              "      <td>&lt;=50K</td>\n",
              "    </tr>\n",
              "    <tr>\n",
              "      <th>7</th>\n",
              "      <td>52</td>\n",
              "      <td>Self-emp-not-inc</td>\n",
              "      <td>209642</td>\n",
              "      <td>HS-grad</td>\n",
              "      <td>9</td>\n",
              "      <td>Married-civ-spouse</td>\n",
              "      <td>Exec-managerial</td>\n",
              "      <td>Husband</td>\n",
              "      <td>White</td>\n",
              "      <td>Male</td>\n",
              "      <td>0</td>\n",
              "      <td>0</td>\n",
              "      <td>45</td>\n",
              "      <td>United-States</td>\n",
              "      <td>&gt;50K</td>\n",
              "    </tr>\n",
              "    <tr>\n",
              "      <th>8</th>\n",
              "      <td>31</td>\n",
              "      <td>Private</td>\n",
              "      <td>45781</td>\n",
              "      <td>Masters</td>\n",
              "      <td>14</td>\n",
              "      <td>Never-married</td>\n",
              "      <td>Prof-specialty</td>\n",
              "      <td>Not-in-family</td>\n",
              "      <td>White</td>\n",
              "      <td>Female</td>\n",
              "      <td>14084</td>\n",
              "      <td>0</td>\n",
              "      <td>50</td>\n",
              "      <td>United-States</td>\n",
              "      <td>&gt;50K</td>\n",
              "    </tr>\n",
              "    <tr>\n",
              "      <th>9</th>\n",
              "      <td>42</td>\n",
              "      <td>Private</td>\n",
              "      <td>159449</td>\n",
              "      <td>Bachelors</td>\n",
              "      <td>13</td>\n",
              "      <td>Married-civ-spouse</td>\n",
              "      <td>Exec-managerial</td>\n",
              "      <td>Husband</td>\n",
              "      <td>White</td>\n",
              "      <td>Male</td>\n",
              "      <td>5178</td>\n",
              "      <td>0</td>\n",
              "      <td>40</td>\n",
              "      <td>United-States</td>\n",
              "      <td>&gt;50K</td>\n",
              "    </tr>\n",
              "  </tbody>\n",
              "</table>\n",
              "</div>"
            ],
            "text/plain": [
              "   age          workclass  fnlwgt   education  education-num  \\\n",
              "0   39          State-gov   77516   Bachelors             13   \n",
              "1   50   Self-emp-not-inc   83311   Bachelors             13   \n",
              "2   38            Private  215646     HS-grad              9   \n",
              "3   53            Private  234721        11th              7   \n",
              "4   28            Private  338409   Bachelors             13   \n",
              "5   37            Private  284582     Masters             14   \n",
              "6   49            Private  160187         9th              5   \n",
              "7   52   Self-emp-not-inc  209642     HS-grad              9   \n",
              "8   31            Private   45781     Masters             14   \n",
              "9   42            Private  159449   Bachelors             13   \n",
              "\n",
              "           marital-status          occupation    relationship    race  \\\n",
              "0           Never-married        Adm-clerical   Not-in-family   White   \n",
              "1      Married-civ-spouse     Exec-managerial         Husband   White   \n",
              "2                Divorced   Handlers-cleaners   Not-in-family   White   \n",
              "3      Married-civ-spouse   Handlers-cleaners         Husband   Black   \n",
              "4      Married-civ-spouse      Prof-specialty            Wife   Black   \n",
              "5      Married-civ-spouse     Exec-managerial            Wife   White   \n",
              "6   Married-spouse-absent       Other-service   Not-in-family   Black   \n",
              "7      Married-civ-spouse     Exec-managerial         Husband   White   \n",
              "8           Never-married      Prof-specialty   Not-in-family   White   \n",
              "9      Married-civ-spouse     Exec-managerial         Husband   White   \n",
              "\n",
              "       sex  capital-gain  capital-loss  hours-per-week  native-country  salary  \n",
              "0     Male          2174             0              40   United-States   <=50K  \n",
              "1     Male             0             0              13   United-States   <=50K  \n",
              "2     Male             0             0              40   United-States   <=50K  \n",
              "3     Male             0             0              40   United-States   <=50K  \n",
              "4   Female             0             0              40            Cuba   <=50K  \n",
              "5   Female             0             0              40   United-States   <=50K  \n",
              "6   Female             0             0              16         Jamaica   <=50K  \n",
              "7     Male             0             0              45   United-States    >50K  \n",
              "8   Female         14084             0              50   United-States    >50K  \n",
              "9     Male          5178             0              40   United-States    >50K  "
            ]
          },
          "execution_count": 713,
          "metadata": {},
          "output_type": "execute_result"
        }
      ],
      "source": [
        "# Import dataset\n",
        "df = pd.read_csv('salary.csv')\n",
        "df.head(10)"
      ]
    },
    {
      "cell_type": "code",
      "execution_count": null,
      "id": "27f46fa9",
      "metadata": {
        "scrolled": true,
        "id": "27f46fa9",
        "outputId": "9514fa28-482a-4f3a-d9bb-0d0c44a07009"
      },
      "outputs": [
        {
          "data": {
            "text/html": [
              "<div>\n",
              "<style scoped>\n",
              "    .dataframe tbody tr th:only-of-type {\n",
              "        vertical-align: middle;\n",
              "    }\n",
              "\n",
              "    .dataframe tbody tr th {\n",
              "        vertical-align: top;\n",
              "    }\n",
              "\n",
              "    .dataframe thead th {\n",
              "        text-align: right;\n",
              "    }\n",
              "</style>\n",
              "<table border=\"1\" class=\"dataframe\">\n",
              "  <thead>\n",
              "    <tr style=\"text-align: right;\">\n",
              "      <th></th>\n",
              "      <th>age</th>\n",
              "      <th>workclass</th>\n",
              "      <th>fnlwgt</th>\n",
              "      <th>education</th>\n",
              "      <th>education-num</th>\n",
              "      <th>marital-status</th>\n",
              "      <th>occupation</th>\n",
              "      <th>relationship</th>\n",
              "      <th>race</th>\n",
              "      <th>sex</th>\n",
              "      <th>capital-gain</th>\n",
              "      <th>capital-loss</th>\n",
              "      <th>hours-per-week</th>\n",
              "      <th>native-country</th>\n",
              "      <th>salary</th>\n",
              "    </tr>\n",
              "  </thead>\n",
              "  <tbody>\n",
              "    <tr>\n",
              "      <th>21878</th>\n",
              "      <td>37</td>\n",
              "      <td>Private</td>\n",
              "      <td>176073</td>\n",
              "      <td>Some-college</td>\n",
              "      <td>10</td>\n",
              "      <td>Divorced</td>\n",
              "      <td>Craft-repair</td>\n",
              "      <td>Not-in-family</td>\n",
              "      <td>White</td>\n",
              "      <td>Male</td>\n",
              "      <td>0</td>\n",
              "      <td>0</td>\n",
              "      <td>50</td>\n",
              "      <td>United-States</td>\n",
              "      <td>&lt;=50K</td>\n",
              "    </tr>\n",
              "    <tr>\n",
              "      <th>5279</th>\n",
              "      <td>23</td>\n",
              "      <td>Self-emp-inc</td>\n",
              "      <td>284651</td>\n",
              "      <td>Bachelors</td>\n",
              "      <td>13</td>\n",
              "      <td>Divorced</td>\n",
              "      <td>Sales</td>\n",
              "      <td>Not-in-family</td>\n",
              "      <td>White</td>\n",
              "      <td>Female</td>\n",
              "      <td>0</td>\n",
              "      <td>0</td>\n",
              "      <td>43</td>\n",
              "      <td>United-States</td>\n",
              "      <td>&lt;=50K</td>\n",
              "    </tr>\n",
              "    <tr>\n",
              "      <th>4295</th>\n",
              "      <td>47</td>\n",
              "      <td>Private</td>\n",
              "      <td>148724</td>\n",
              "      <td>HS-grad</td>\n",
              "      <td>9</td>\n",
              "      <td>Married-civ-spouse</td>\n",
              "      <td>Sales</td>\n",
              "      <td>Husband</td>\n",
              "      <td>Black</td>\n",
              "      <td>Male</td>\n",
              "      <td>0</td>\n",
              "      <td>0</td>\n",
              "      <td>40</td>\n",
              "      <td>United-States</td>\n",
              "      <td>&lt;=50K</td>\n",
              "    </tr>\n",
              "    <tr>\n",
              "      <th>2179</th>\n",
              "      <td>54</td>\n",
              "      <td>Self-emp-not-inc</td>\n",
              "      <td>179704</td>\n",
              "      <td>Bachelors</td>\n",
              "      <td>13</td>\n",
              "      <td>Married-civ-spouse</td>\n",
              "      <td>Exec-managerial</td>\n",
              "      <td>Husband</td>\n",
              "      <td>White</td>\n",
              "      <td>Male</td>\n",
              "      <td>0</td>\n",
              "      <td>0</td>\n",
              "      <td>45</td>\n",
              "      <td>United-States</td>\n",
              "      <td>&gt;50K</td>\n",
              "    </tr>\n",
              "    <tr>\n",
              "      <th>18599</th>\n",
              "      <td>28</td>\n",
              "      <td>?</td>\n",
              "      <td>389857</td>\n",
              "      <td>HS-grad</td>\n",
              "      <td>9</td>\n",
              "      <td>Married-civ-spouse</td>\n",
              "      <td>?</td>\n",
              "      <td>Other-relative</td>\n",
              "      <td>White</td>\n",
              "      <td>Male</td>\n",
              "      <td>0</td>\n",
              "      <td>0</td>\n",
              "      <td>16</td>\n",
              "      <td>United-States</td>\n",
              "      <td>&lt;=50K</td>\n",
              "    </tr>\n",
              "    <tr>\n",
              "      <th>...</th>\n",
              "      <td>...</td>\n",
              "      <td>...</td>\n",
              "      <td>...</td>\n",
              "      <td>...</td>\n",
              "      <td>...</td>\n",
              "      <td>...</td>\n",
              "      <td>...</td>\n",
              "      <td>...</td>\n",
              "      <td>...</td>\n",
              "      <td>...</td>\n",
              "      <td>...</td>\n",
              "      <td>...</td>\n",
              "      <td>...</td>\n",
              "      <td>...</td>\n",
              "      <td>...</td>\n",
              "    </tr>\n",
              "    <tr>\n",
              "      <th>7939</th>\n",
              "      <td>23</td>\n",
              "      <td>Private</td>\n",
              "      <td>120068</td>\n",
              "      <td>Assoc-voc</td>\n",
              "      <td>11</td>\n",
              "      <td>Married-civ-spouse</td>\n",
              "      <td>Handlers-cleaners</td>\n",
              "      <td>Husband</td>\n",
              "      <td>White</td>\n",
              "      <td>Male</td>\n",
              "      <td>0</td>\n",
              "      <td>0</td>\n",
              "      <td>40</td>\n",
              "      <td>United-States</td>\n",
              "      <td>&lt;=50K</td>\n",
              "    </tr>\n",
              "    <tr>\n",
              "      <th>26011</th>\n",
              "      <td>28</td>\n",
              "      <td>Private</td>\n",
              "      <td>109001</td>\n",
              "      <td>Masters</td>\n",
              "      <td>14</td>\n",
              "      <td>Married-civ-spouse</td>\n",
              "      <td>Prof-specialty</td>\n",
              "      <td>Husband</td>\n",
              "      <td>White</td>\n",
              "      <td>Male</td>\n",
              "      <td>0</td>\n",
              "      <td>0</td>\n",
              "      <td>38</td>\n",
              "      <td>United-States</td>\n",
              "      <td>&gt;50K</td>\n",
              "    </tr>\n",
              "    <tr>\n",
              "      <th>24889</th>\n",
              "      <td>42</td>\n",
              "      <td>Private</td>\n",
              "      <td>245565</td>\n",
              "      <td>Bachelors</td>\n",
              "      <td>13</td>\n",
              "      <td>Never-married</td>\n",
              "      <td>Prof-specialty</td>\n",
              "      <td>Own-child</td>\n",
              "      <td>White</td>\n",
              "      <td>Female</td>\n",
              "      <td>0</td>\n",
              "      <td>0</td>\n",
              "      <td>12</td>\n",
              "      <td>England</td>\n",
              "      <td>&lt;=50K</td>\n",
              "    </tr>\n",
              "    <tr>\n",
              "      <th>15637</th>\n",
              "      <td>43</td>\n",
              "      <td>Private</td>\n",
              "      <td>156745</td>\n",
              "      <td>Some-college</td>\n",
              "      <td>10</td>\n",
              "      <td>Married-civ-spouse</td>\n",
              "      <td>Craft-repair</td>\n",
              "      <td>Husband</td>\n",
              "      <td>Black</td>\n",
              "      <td>Male</td>\n",
              "      <td>0</td>\n",
              "      <td>0</td>\n",
              "      <td>40</td>\n",
              "      <td>United-States</td>\n",
              "      <td>&lt;=50K</td>\n",
              "    </tr>\n",
              "    <tr>\n",
              "      <th>3895</th>\n",
              "      <td>62</td>\n",
              "      <td>?</td>\n",
              "      <td>182687</td>\n",
              "      <td>Some-college</td>\n",
              "      <td>10</td>\n",
              "      <td>Married-civ-spouse</td>\n",
              "      <td>?</td>\n",
              "      <td>Wife</td>\n",
              "      <td>White</td>\n",
              "      <td>Female</td>\n",
              "      <td>0</td>\n",
              "      <td>0</td>\n",
              "      <td>45</td>\n",
              "      <td>United-States</td>\n",
              "      <td>&gt;50K</td>\n",
              "    </tr>\n",
              "  </tbody>\n",
              "</table>\n",
              "<p>32561 rows × 15 columns</p>\n",
              "</div>"
            ],
            "text/plain": [
              "       age          workclass  fnlwgt      education  education-num  \\\n",
              "21878   37            Private  176073   Some-college             10   \n",
              "5279    23       Self-emp-inc  284651      Bachelors             13   \n",
              "4295    47            Private  148724        HS-grad              9   \n",
              "2179    54   Self-emp-not-inc  179704      Bachelors             13   \n",
              "18599   28                  ?  389857        HS-grad              9   \n",
              "...    ...                ...     ...            ...            ...   \n",
              "7939    23            Private  120068      Assoc-voc             11   \n",
              "26011   28            Private  109001        Masters             14   \n",
              "24889   42            Private  245565      Bachelors             13   \n",
              "15637   43            Private  156745   Some-college             10   \n",
              "3895    62                  ?  182687   Some-college             10   \n",
              "\n",
              "            marital-status          occupation     relationship    race  \\\n",
              "21878             Divorced        Craft-repair    Not-in-family   White   \n",
              "5279              Divorced               Sales    Not-in-family   White   \n",
              "4295    Married-civ-spouse               Sales          Husband   Black   \n",
              "2179    Married-civ-spouse     Exec-managerial          Husband   White   \n",
              "18599   Married-civ-spouse                   ?   Other-relative   White   \n",
              "...                    ...                 ...              ...     ...   \n",
              "7939    Married-civ-spouse   Handlers-cleaners          Husband   White   \n",
              "26011   Married-civ-spouse      Prof-specialty          Husband   White   \n",
              "24889        Never-married      Prof-specialty        Own-child   White   \n",
              "15637   Married-civ-spouse        Craft-repair          Husband   Black   \n",
              "3895    Married-civ-spouse                   ?             Wife   White   \n",
              "\n",
              "           sex  capital-gain  capital-loss  hours-per-week  native-country  \\\n",
              "21878     Male             0             0              50   United-States   \n",
              "5279    Female             0             0              43   United-States   \n",
              "4295      Male             0             0              40   United-States   \n",
              "2179      Male             0             0              45   United-States   \n",
              "18599     Male             0             0              16   United-States   \n",
              "...        ...           ...           ...             ...             ...   \n",
              "7939      Male             0             0              40   United-States   \n",
              "26011     Male             0             0              38   United-States   \n",
              "24889   Female             0             0              12         England   \n",
              "15637     Male             0             0              40   United-States   \n",
              "3895    Female             0             0              45   United-States   \n",
              "\n",
              "       salary  \n",
              "21878   <=50K  \n",
              "5279    <=50K  \n",
              "4295    <=50K  \n",
              "2179     >50K  \n",
              "18599   <=50K  \n",
              "...       ...  \n",
              "7939    <=50K  \n",
              "26011    >50K  \n",
              "24889   <=50K  \n",
              "15637   <=50K  \n",
              "3895     >50K  \n",
              "\n",
              "[32561 rows x 15 columns]"
            ]
          },
          "execution_count": 714,
          "metadata": {},
          "output_type": "execute_result"
        }
      ],
      "source": [
        "# Generate a sample random row or column\n",
        "\n",
        "df.sample(frac=1)"
      ]
    },
    {
      "cell_type": "code",
      "execution_count": null,
      "id": "f6c26f52",
      "metadata": {
        "id": "f6c26f52",
        "outputId": "22621a39-2194-49df-9db4-fac6b96332a3"
      },
      "outputs": [
        {
          "name": "stdout",
          "output_type": "stream",
          "text": [
            "<class 'pandas.core.frame.DataFrame'>\n",
            "RangeIndex: 32561 entries, 0 to 32560\n",
            "Data columns (total 15 columns):\n",
            " #   Column          Non-Null Count  Dtype \n",
            "---  ------          --------------  ----- \n",
            " 0   age             32561 non-null  int64 \n",
            " 1   workclass       32561 non-null  object\n",
            " 2   fnlwgt          32561 non-null  int64 \n",
            " 3   education       32561 non-null  object\n",
            " 4   education-num   32561 non-null  int64 \n",
            " 5   marital-status  32561 non-null  object\n",
            " 6   occupation      32561 non-null  object\n",
            " 7   relationship    32561 non-null  object\n",
            " 8   race            32561 non-null  object\n",
            " 9   sex             32561 non-null  object\n",
            " 10  capital-gain    32561 non-null  int64 \n",
            " 11  capital-loss    32561 non-null  int64 \n",
            " 12  hours-per-week  32561 non-null  int64 \n",
            " 13  native-country  32561 non-null  object\n",
            " 14  salary          32561 non-null  object\n",
            "dtypes: int64(6), object(9)\n",
            "memory usage: 3.7+ MB\n"
          ]
        }
      ],
      "source": [
        "# Look at the features' data types\n",
        "\n",
        "df.info()"
      ]
    },
    {
      "cell_type": "code",
      "execution_count": null,
      "id": "de679308",
      "metadata": {
        "id": "de679308"
      },
      "outputs": [],
      "source": [
        "# There is no inappropriate data types"
      ]
    },
    {
      "cell_type": "code",
      "execution_count": null,
      "id": "9223cfe3",
      "metadata": {
        "id": "9223cfe3",
        "outputId": "c3b26d72-4547-429d-f3ef-7a2f5c6947f0"
      },
      "outputs": [
        {
          "data": {
            "text/html": [
              "<div>\n",
              "<style scoped>\n",
              "    .dataframe tbody tr th:only-of-type {\n",
              "        vertical-align: middle;\n",
              "    }\n",
              "\n",
              "    .dataframe tbody tr th {\n",
              "        vertical-align: top;\n",
              "    }\n",
              "\n",
              "    .dataframe thead th {\n",
              "        text-align: right;\n",
              "    }\n",
              "</style>\n",
              "<table border=\"1\" class=\"dataframe\">\n",
              "  <thead>\n",
              "    <tr style=\"text-align: right;\">\n",
              "      <th></th>\n",
              "      <th>age</th>\n",
              "      <th>fnlwgt</th>\n",
              "      <th>education-num</th>\n",
              "      <th>capital-gain</th>\n",
              "      <th>capital-loss</th>\n",
              "      <th>hours-per-week</th>\n",
              "    </tr>\n",
              "  </thead>\n",
              "  <tbody>\n",
              "    <tr>\n",
              "      <th>count</th>\n",
              "      <td>32561.000000</td>\n",
              "      <td>3.256100e+04</td>\n",
              "      <td>32561.000000</td>\n",
              "      <td>32561.000000</td>\n",
              "      <td>32561.000000</td>\n",
              "      <td>32561.000000</td>\n",
              "    </tr>\n",
              "    <tr>\n",
              "      <th>mean</th>\n",
              "      <td>38.581647</td>\n",
              "      <td>1.897784e+05</td>\n",
              "      <td>10.080679</td>\n",
              "      <td>1077.648844</td>\n",
              "      <td>87.303830</td>\n",
              "      <td>40.437456</td>\n",
              "    </tr>\n",
              "    <tr>\n",
              "      <th>std</th>\n",
              "      <td>13.640433</td>\n",
              "      <td>1.055500e+05</td>\n",
              "      <td>2.572720</td>\n",
              "      <td>7385.292085</td>\n",
              "      <td>402.960219</td>\n",
              "      <td>12.347429</td>\n",
              "    </tr>\n",
              "    <tr>\n",
              "      <th>min</th>\n",
              "      <td>17.000000</td>\n",
              "      <td>1.228500e+04</td>\n",
              "      <td>1.000000</td>\n",
              "      <td>0.000000</td>\n",
              "      <td>0.000000</td>\n",
              "      <td>1.000000</td>\n",
              "    </tr>\n",
              "    <tr>\n",
              "      <th>25%</th>\n",
              "      <td>28.000000</td>\n",
              "      <td>1.178270e+05</td>\n",
              "      <td>9.000000</td>\n",
              "      <td>0.000000</td>\n",
              "      <td>0.000000</td>\n",
              "      <td>40.000000</td>\n",
              "    </tr>\n",
              "    <tr>\n",
              "      <th>50%</th>\n",
              "      <td>37.000000</td>\n",
              "      <td>1.783560e+05</td>\n",
              "      <td>10.000000</td>\n",
              "      <td>0.000000</td>\n",
              "      <td>0.000000</td>\n",
              "      <td>40.000000</td>\n",
              "    </tr>\n",
              "    <tr>\n",
              "      <th>75%</th>\n",
              "      <td>48.000000</td>\n",
              "      <td>2.370510e+05</td>\n",
              "      <td>12.000000</td>\n",
              "      <td>0.000000</td>\n",
              "      <td>0.000000</td>\n",
              "      <td>45.000000</td>\n",
              "    </tr>\n",
              "    <tr>\n",
              "      <th>max</th>\n",
              "      <td>90.000000</td>\n",
              "      <td>1.484705e+06</td>\n",
              "      <td>16.000000</td>\n",
              "      <td>99999.000000</td>\n",
              "      <td>4356.000000</td>\n",
              "      <td>99.000000</td>\n",
              "    </tr>\n",
              "  </tbody>\n",
              "</table>\n",
              "</div>"
            ],
            "text/plain": [
              "                age        fnlwgt  education-num  capital-gain  capital-loss  \\\n",
              "count  32561.000000  3.256100e+04   32561.000000  32561.000000  32561.000000   \n",
              "mean      38.581647  1.897784e+05      10.080679   1077.648844     87.303830   \n",
              "std       13.640433  1.055500e+05       2.572720   7385.292085    402.960219   \n",
              "min       17.000000  1.228500e+04       1.000000      0.000000      0.000000   \n",
              "25%       28.000000  1.178270e+05       9.000000      0.000000      0.000000   \n",
              "50%       37.000000  1.783560e+05      10.000000      0.000000      0.000000   \n",
              "75%       48.000000  2.370510e+05      12.000000      0.000000      0.000000   \n",
              "max       90.000000  1.484705e+06      16.000000  99999.000000   4356.000000   \n",
              "\n",
              "       hours-per-week  \n",
              "count    32561.000000  \n",
              "mean        40.437456  \n",
              "std         12.347429  \n",
              "min          1.000000  \n",
              "25%         40.000000  \n",
              "50%         40.000000  \n",
              "75%         45.000000  \n",
              "max         99.000000  "
            ]
          },
          "execution_count": 717,
          "metadata": {},
          "output_type": "execute_result"
        }
      ],
      "source": [
        "df.describe()"
      ]
    },
    {
      "cell_type": "code",
      "execution_count": null,
      "id": "d22c989e",
      "metadata": {
        "id": "d22c989e",
        "outputId": "1e15cb32-42d4-4131-ade5-db3c13d410ce"
      },
      "outputs": [
        {
          "data": {
            "text/plain": [
              "(32561, 15)"
            ]
          },
          "execution_count": 718,
          "metadata": {},
          "output_type": "execute_result"
        }
      ],
      "source": [
        "df.shape"
      ]
    },
    {
      "cell_type": "code",
      "execution_count": null,
      "id": "bd22c791",
      "metadata": {
        "id": "bd22c791",
        "outputId": "965cb1d7-daf1-4aaf-fb2a-19daa77db52a"
      },
      "outputs": [
        {
          "data": {
            "text/plain": [
              "age                int64\n",
              "workclass         object\n",
              "fnlwgt             int64\n",
              "education         object\n",
              "education-num      int64\n",
              "marital-status    object\n",
              "occupation        object\n",
              "relationship      object\n",
              "race              object\n",
              "sex               object\n",
              "capital-gain       int64\n",
              "capital-loss       int64\n",
              "hours-per-week     int64\n",
              "native-country    object\n",
              "salary            object\n",
              "dtype: object"
            ]
          },
          "execution_count": 719,
          "metadata": {},
          "output_type": "execute_result"
        }
      ],
      "source": [
        "# Data types\n",
        "\n",
        "df.dtypes"
      ]
    },
    {
      "cell_type": "code",
      "execution_count": null,
      "id": "a146b7de",
      "metadata": {
        "scrolled": true,
        "id": "a146b7de",
        "outputId": "a7d188b2-48a2-44c7-94bd-46f111d17123"
      },
      "outputs": [
        {
          "data": {
            "text/plain": [
              "['age',\n",
              " 'workclass',\n",
              " 'fnlwgt',\n",
              " 'education',\n",
              " 'education-num',\n",
              " 'marital-status',\n",
              " 'occupation',\n",
              " 'relationship',\n",
              " 'race',\n",
              " 'sex',\n",
              " 'capital-gain',\n",
              " 'capital-loss',\n",
              " 'hours-per-week',\n",
              " 'native-country',\n",
              " 'salary']"
            ]
          },
          "execution_count": 720,
          "metadata": {},
          "output_type": "execute_result"
        }
      ],
      "source": [
        "# Look at the 15 features\n",
        "Col_list = df.columns.to_list()\n",
        "Col_list"
      ]
    },
    {
      "cell_type": "code",
      "execution_count": null,
      "id": "f4b48684",
      "metadata": {
        "scrolled": true,
        "id": "f4b48684",
        "outputId": "88ee823e-fc49-4412-9e0d-625b96b9dff9"
      },
      "outputs": [
        {
          "data": {
            "text/html": [
              "<div>\n",
              "<style scoped>\n",
              "    .dataframe tbody tr th:only-of-type {\n",
              "        vertical-align: middle;\n",
              "    }\n",
              "\n",
              "    .dataframe tbody tr th {\n",
              "        vertical-align: top;\n",
              "    }\n",
              "\n",
              "    .dataframe thead th {\n",
              "        text-align: right;\n",
              "    }\n",
              "</style>\n",
              "<table border=\"1\" class=\"dataframe\">\n",
              "  <thead>\n",
              "    <tr style=\"text-align: right;\">\n",
              "      <th></th>\n",
              "      <th></th>\n",
              "      <th>Number of unique values</th>\n",
              "    </tr>\n",
              "  </thead>\n",
              "  <tbody>\n",
              "    <tr>\n",
              "      <th>0</th>\n",
              "      <td>age</td>\n",
              "      <td>73</td>\n",
              "    </tr>\n",
              "    <tr>\n",
              "      <th>1</th>\n",
              "      <td>workclass</td>\n",
              "      <td>9</td>\n",
              "    </tr>\n",
              "    <tr>\n",
              "      <th>2</th>\n",
              "      <td>fnlwgt</td>\n",
              "      <td>21648</td>\n",
              "    </tr>\n",
              "    <tr>\n",
              "      <th>3</th>\n",
              "      <td>education</td>\n",
              "      <td>16</td>\n",
              "    </tr>\n",
              "    <tr>\n",
              "      <th>4</th>\n",
              "      <td>education-num</td>\n",
              "      <td>16</td>\n",
              "    </tr>\n",
              "    <tr>\n",
              "      <th>5</th>\n",
              "      <td>marital-status</td>\n",
              "      <td>7</td>\n",
              "    </tr>\n",
              "    <tr>\n",
              "      <th>6</th>\n",
              "      <td>occupation</td>\n",
              "      <td>15</td>\n",
              "    </tr>\n",
              "    <tr>\n",
              "      <th>7</th>\n",
              "      <td>relationship</td>\n",
              "      <td>6</td>\n",
              "    </tr>\n",
              "    <tr>\n",
              "      <th>8</th>\n",
              "      <td>race</td>\n",
              "      <td>5</td>\n",
              "    </tr>\n",
              "    <tr>\n",
              "      <th>9</th>\n",
              "      <td>sex</td>\n",
              "      <td>2</td>\n",
              "    </tr>\n",
              "    <tr>\n",
              "      <th>10</th>\n",
              "      <td>capital-gain</td>\n",
              "      <td>119</td>\n",
              "    </tr>\n",
              "    <tr>\n",
              "      <th>11</th>\n",
              "      <td>capital-loss</td>\n",
              "      <td>92</td>\n",
              "    </tr>\n",
              "    <tr>\n",
              "      <th>12</th>\n",
              "      <td>hours-per-week</td>\n",
              "      <td>94</td>\n",
              "    </tr>\n",
              "    <tr>\n",
              "      <th>13</th>\n",
              "      <td>native-country</td>\n",
              "      <td>42</td>\n",
              "    </tr>\n",
              "    <tr>\n",
              "      <th>14</th>\n",
              "      <td>salary</td>\n",
              "      <td>2</td>\n",
              "    </tr>\n",
              "  </tbody>\n",
              "</table>\n",
              "</div>"
            ],
            "text/plain": [
              "                    Number of unique values\n",
              "0              age                       73\n",
              "1        workclass                        9\n",
              "2           fnlwgt                    21648\n",
              "3        education                       16\n",
              "4    education-num                       16\n",
              "5   marital-status                        7\n",
              "6       occupation                       15\n",
              "7     relationship                        6\n",
              "8             race                        5\n",
              "9              sex                        2\n",
              "10    capital-gain                      119\n",
              "11    capital-loss                       92\n",
              "12  hours-per-week                       94\n",
              "13  native-country                       42\n",
              "14          salary                        2"
            ]
          },
          "execution_count": 721,
          "metadata": {},
          "output_type": "execute_result"
        }
      ],
      "source": [
        "# Number of uniques values in dataframe\n",
        "\n",
        "pd.DataFrame({'': df.nunique().index , 'Number of unique values':  df.nunique().values})"
      ]
    },
    {
      "cell_type": "code",
      "execution_count": null,
      "id": "6d68ad69",
      "metadata": {
        "id": "6d68ad69",
        "outputId": "7b48c8b4-fa18-4063-bb82-272ded4ce81c"
      },
      "outputs": [
        {
          "data": {
            "text/plain": [
              "Index(['age', 'fnlwgt', 'education-num', 'capital-gain', 'capital-loss',\n",
              "       'hours-per-week'],\n",
              "      dtype='object')"
            ]
          },
          "execution_count": 722,
          "metadata": {},
          "output_type": "execute_result"
        }
      ],
      "source": [
        "# Data type exploration\n",
        "\n",
        "df.select_dtypes(exclude=['object', 'category']).columns"
      ]
    },
    {
      "cell_type": "code",
      "execution_count": null,
      "id": "b38737b6",
      "metadata": {
        "id": "b38737b6"
      },
      "outputs": [],
      "source": [
        "# There are 6 features of type 'numeric'\n",
        "# 9 features of type 'object.'"
      ]
    },
    {
      "cell_type": "markdown",
      "id": "15767fdb",
      "metadata": {
        "id": "15767fdb"
      },
      "source": [
        " <a id=\"13\"></a>\n",
        " ### 2.3 Exploratory Data Analysis ( EDA)\n",
        "  <a id=\"15\"></a>\n",
        " #### 2.3.1 Detect missing values\n",
        "\n",
        " [Back to the top](#0)<a id=\"0\"></a>"
      ]
    },
    {
      "cell_type": "code",
      "execution_count": null,
      "id": "0f04e843",
      "metadata": {
        "id": "0f04e843",
        "outputId": "8fa84342-c1f8-4863-81f5-5feac8d6a367"
      },
      "outputs": [
        {
          "data": {
            "text/plain": [
              "age               False\n",
              "workclass         False\n",
              "fnlwgt            False\n",
              "education         False\n",
              "education-num     False\n",
              "marital-status    False\n",
              "occupation        False\n",
              "relationship      False\n",
              "race              False\n",
              "sex               False\n",
              "capital-gain      False\n",
              "capital-loss      False\n",
              "hours-per-week    False\n",
              "native-country    False\n",
              "salary            False\n",
              "dtype: bool"
            ]
          },
          "execution_count": 724,
          "metadata": {},
          "output_type": "execute_result"
        }
      ],
      "source": [
        "# Detect any missing values\n",
        "\n",
        "df.isnull().all()"
      ]
    },
    {
      "cell_type": "markdown",
      "id": "c29ea317",
      "metadata": {
        "id": "c29ea317"
      },
      "source": [
        "It shows non missing values here. However, I will explore the data that isn't shown with isnull() function.\n",
        "Look into each categorical feature one-by-one."
      ]
    },
    {
      "cell_type": "code",
      "execution_count": null,
      "id": "398b9302",
      "metadata": {
        "scrolled": true,
        "id": "398b9302",
        "outputId": "3bff6da8-327b-4bf8-ee81-a7420d6ea7a5"
      },
      "outputs": [
        {
          "data": {
            "text/plain": [
              "array([' State-gov', ' Self-emp-not-inc', ' Private', ' Federal-gov',\n",
              "       ' Local-gov', ' ?', ' Self-emp-inc', ' Without-pay',\n",
              "       ' Never-worked'], dtype=object)"
            ]
          },
          "execution_count": 725,
          "metadata": {},
          "output_type": "execute_result"
        }
      ],
      "source": [
        "df['workclass'].unique()"
      ]
    },
    {
      "cell_type": "code",
      "execution_count": null,
      "id": "184242d1",
      "metadata": {
        "id": "184242d1"
      },
      "outputs": [],
      "source": [
        "# Replace '?' by NaN\n",
        "df['workclass'].replace(' ?', np.nan, inplace=True)"
      ]
    },
    {
      "cell_type": "code",
      "execution_count": null,
      "id": "6115e71a",
      "metadata": {
        "id": "6115e71a",
        "outputId": "8bfb383c-2bcb-45e8-a0a3-9845cdce4646"
      },
      "outputs": [
        {
          "data": {
            "text/plain": [
              "education\n",
              " HS-grad         10501\n",
              " Some-college     7291\n",
              " Bachelors        5355\n",
              " Masters          1723\n",
              " Assoc-voc        1382\n",
              " 11th             1175\n",
              " Assoc-acdm       1067\n",
              " 10th              933\n",
              " 7th-8th           646\n",
              " Prof-school       576\n",
              " 9th               514\n",
              " 12th              433\n",
              " Doctorate         413\n",
              " 5th-6th           333\n",
              " 1st-4th           168\n",
              " Preschool          51\n",
              "Name: count, dtype: int64"
            ]
          },
          "execution_count": 727,
          "metadata": {},
          "output_type": "execute_result"
        }
      ],
      "source": [
        "# Check education feature\n",
        "df['education'].value_counts()"
      ]
    },
    {
      "cell_type": "code",
      "execution_count": null,
      "id": "42769a6c",
      "metadata": {
        "id": "42769a6c",
        "outputId": "335dbccf-76bd-46c1-bca4-2f76c6712132"
      },
      "outputs": [
        {
          "data": {
            "text/plain": [
              "array([' Never-married', ' Married-civ-spouse', ' Divorced',\n",
              "       ' Married-spouse-absent', ' Separated', ' Married-AF-spouse',\n",
              "       ' Widowed'], dtype=object)"
            ]
          },
          "execution_count": 728,
          "metadata": {},
          "output_type": "execute_result"
        }
      ],
      "source": [
        "# Check marital-status feature\n",
        "df['marital-status'].unique()"
      ]
    },
    {
      "cell_type": "code",
      "execution_count": null,
      "id": "43471d57",
      "metadata": {
        "id": "43471d57",
        "outputId": "0fd703bc-5c18-4fe0-fc0f-2552c2ca3629"
      },
      "outputs": [
        {
          "data": {
            "text/plain": [
              "array([' Adm-clerical', ' Exec-managerial', ' Handlers-cleaners',\n",
              "       ' Prof-specialty', ' Other-service', ' Sales', ' Craft-repair',\n",
              "       ' Transport-moving', ' Farming-fishing', ' Machine-op-inspct',\n",
              "       ' Tech-support', ' ?', ' Protective-serv', ' Armed-Forces',\n",
              "       ' Priv-house-serv'], dtype=object)"
            ]
          },
          "execution_count": 729,
          "metadata": {},
          "output_type": "execute_result"
        }
      ],
      "source": [
        "# Check occupation feature\n",
        "df['occupation'].unique()"
      ]
    },
    {
      "cell_type": "code",
      "execution_count": null,
      "id": "ede8c41d",
      "metadata": {
        "id": "ede8c41d"
      },
      "outputs": [],
      "source": [
        "# Replace ' ?' by Nan\n",
        "df['occupation'].replace(' ?', np.nan, inplace=True)"
      ]
    },
    {
      "cell_type": "code",
      "execution_count": null,
      "id": "0b8595bc",
      "metadata": {
        "id": "0b8595bc",
        "outputId": "80021df9-c514-4283-b209-1add562dfda7"
      },
      "outputs": [
        {
          "data": {
            "text/plain": [
              "relationship\n",
              " Husband           13193\n",
              " Not-in-family      8305\n",
              " Own-child          5068\n",
              " Unmarried          3446\n",
              " Wife               1568\n",
              " Other-relative      981\n",
              "Name: count, dtype: int64"
            ]
          },
          "execution_count": 731,
          "metadata": {},
          "output_type": "execute_result"
        }
      ],
      "source": [
        "# Check relationship feature\n",
        "df['relationship'].value_counts()"
      ]
    },
    {
      "cell_type": "code",
      "execution_count": null,
      "id": "7bc2e1b7",
      "metadata": {
        "id": "7bc2e1b7",
        "outputId": "1232ec1a-90bb-4ebf-b099-6f8fa4b387a6"
      },
      "outputs": [
        {
          "data": {
            "text/plain": [
              "race\n",
              " White                 27816\n",
              " Black                  3124\n",
              " Asian-Pac-Islander     1039\n",
              " Amer-Indian-Eskimo      311\n",
              " Other                   271\n",
              "Name: count, dtype: int64"
            ]
          },
          "execution_count": 732,
          "metadata": {},
          "output_type": "execute_result"
        }
      ],
      "source": [
        "# Check race feature\n",
        "\n",
        "df['race'].value_counts()"
      ]
    },
    {
      "cell_type": "code",
      "execution_count": null,
      "id": "a8156d67",
      "metadata": {
        "id": "a8156d67",
        "outputId": "66bfc640-69d0-4d44-da5b-823ada3370b6"
      },
      "outputs": [
        {
          "data": {
            "text/plain": [
              "sex\n",
              " Male      21790\n",
              " Female    10771\n",
              "Name: count, dtype: int64"
            ]
          },
          "execution_count": 733,
          "metadata": {},
          "output_type": "execute_result"
        }
      ],
      "source": [
        "# Check sex feature\n",
        "\n",
        "df['sex'].value_counts()"
      ]
    },
    {
      "cell_type": "code",
      "execution_count": null,
      "id": "13c4fad0",
      "metadata": {
        "scrolled": true,
        "id": "13c4fad0",
        "outputId": "011f1f73-bc3d-45da-afdd-645dba3765e9"
      },
      "outputs": [
        {
          "data": {
            "text/plain": [
              "native-country\n",
              " United-States                 29170\n",
              " Mexico                          643\n",
              " ?                               583\n",
              " Philippines                     198\n",
              " Germany                         137\n",
              " Canada                          121\n",
              " Puerto-Rico                     114\n",
              " El-Salvador                     106\n",
              " India                           100\n",
              " Cuba                             95\n",
              " England                          90\n",
              " Jamaica                          81\n",
              " South                            80\n",
              " China                            75\n",
              " Italy                            73\n",
              " Dominican-Republic               70\n",
              " Vietnam                          67\n",
              " Guatemala                        64\n",
              " Japan                            62\n",
              " Poland                           60\n",
              " Columbia                         59\n",
              " Taiwan                           51\n",
              " Haiti                            44\n",
              " Iran                             43\n",
              " Portugal                         37\n",
              " Nicaragua                        34\n",
              " Peru                             31\n",
              " France                           29\n",
              " Greece                           29\n",
              " Ecuador                          28\n",
              " Ireland                          24\n",
              " Hong                             20\n",
              " Cambodia                         19\n",
              " Trinadad&Tobago                  19\n",
              " Laos                             18\n",
              " Thailand                         18\n",
              " Yugoslavia                       16\n",
              " Outlying-US(Guam-USVI-etc)       14\n",
              " Honduras                         13\n",
              " Hungary                          13\n",
              " Scotland                         12\n",
              " Holand-Netherlands                1\n",
              "Name: count, dtype: int64"
            ]
          },
          "execution_count": 734,
          "metadata": {},
          "output_type": "execute_result"
        }
      ],
      "source": [
        "# Check native-country feature\n",
        "df['native-country'].value_counts(sort=True)"
      ]
    },
    {
      "cell_type": "code",
      "execution_count": null,
      "id": "e329697f",
      "metadata": {
        "id": "e329697f"
      },
      "outputs": [],
      "source": [
        "# replace ' ?' by NaN\n",
        "df['native-country'].replace('?', np.nan, inplace=True)"
      ]
    },
    {
      "cell_type": "code",
      "execution_count": null,
      "id": "4071c6c3",
      "metadata": {
        "id": "4071c6c3",
        "outputId": "0e18f7f9-c3ff-4d71-c0b4-e4c591e0da8c"
      },
      "outputs": [
        {
          "data": {
            "text/plain": [
              "salary\n",
              " <=50K    24720\n",
              " >50K      7841\n",
              "Name: count, dtype: int64"
            ]
          },
          "execution_count": 736,
          "metadata": {},
          "output_type": "execute_result"
        }
      ],
      "source": [
        "df['salary'].value_counts()"
      ]
    },
    {
      "cell_type": "markdown",
      "id": "fc36ba7b",
      "metadata": {
        "id": "fc36ba7b"
      },
      "source": [
        "<a id=\"16\"></a>\n",
        "#### 2.3.2 Handle with missing values"
      ]
    },
    {
      "cell_type": "code",
      "execution_count": null,
      "id": "a322a991",
      "metadata": {
        "scrolled": true,
        "id": "a322a991",
        "outputId": "7fcc0d7e-d8d2-489e-bb68-68dc92ba62b8"
      },
      "outputs": [
        {
          "name": "stderr",
          "output_type": "stream",
          "text": [
            "/var/folders/hp/45b34q497yb03l6tn8htgp5w0000gn/T/ipykernel_45350/4001370547.py:3: FutureWarning: DataFrame.applymap has been deprecated. Use DataFrame.map instead.\n",
            "  df= df.applymap(lambda x: x.strip() if isinstance(x, str) else x)\n"
          ]
        }
      ],
      "source": [
        "# Cleaning all the spaces from object date type\n",
        "\n",
        "df= df.applymap(lambda x: x.strip() if isinstance(x, str) else x)"
      ]
    },
    {
      "cell_type": "code",
      "execution_count": null,
      "id": "4e7cc626",
      "metadata": {
        "id": "4e7cc626",
        "outputId": "dbd219b3-d856-45a0-b0f4-f1f20b0ae1b3"
      },
      "outputs": [
        {
          "data": {
            "text/plain": [
              "array(['State-gov', 'Self-emp-not-inc', 'Private', 'Federal-gov',\n",
              "       'Local-gov', nan, 'Self-emp-inc', 'Without-pay', 'Never-worked'],\n",
              "      dtype=object)"
            ]
          },
          "execution_count": 738,
          "metadata": {},
          "output_type": "execute_result"
        }
      ],
      "source": [
        "df['workclass'].unique()"
      ]
    },
    {
      "cell_type": "code",
      "execution_count": null,
      "id": "a42d434d",
      "metadata": {
        "id": "a42d434d",
        "outputId": "c949b5a9-7556-4ba5-d2ac-4f2ce212daf0"
      },
      "outputs": [
        {
          "data": {
            "text/plain": [
              "age                  0\n",
              "workclass         1836\n",
              "fnlwgt               0\n",
              "education            0\n",
              "education-num        0\n",
              "marital-status       0\n",
              "occupation        1843\n",
              "relationship         0\n",
              "race                 0\n",
              "sex                  0\n",
              "capital-gain         0\n",
              "capital-loss         0\n",
              "hours-per-week       0\n",
              "native-country       0\n",
              "salary               0\n",
              "dtype: int64"
            ]
          },
          "execution_count": 739,
          "metadata": {},
          "output_type": "execute_result"
        }
      ],
      "source": [
        "df.isnull().sum()"
      ]
    },
    {
      "cell_type": "code",
      "execution_count": null,
      "id": "236e5c36",
      "metadata": {
        "id": "236e5c36",
        "outputId": "e2f3d232-a2b4-43be-ea1f-7550fa69283f"
      },
      "outputs": [
        {
          "data": {
            "text/html": [
              "<div>\n",
              "<style scoped>\n",
              "    .dataframe tbody tr th:only-of-type {\n",
              "        vertical-align: middle;\n",
              "    }\n",
              "\n",
              "    .dataframe tbody tr th {\n",
              "        vertical-align: top;\n",
              "    }\n",
              "\n",
              "    .dataframe thead th {\n",
              "        text-align: right;\n",
              "    }\n",
              "</style>\n",
              "<table border=\"1\" class=\"dataframe\">\n",
              "  <thead>\n",
              "    <tr style=\"text-align: right;\">\n",
              "      <th></th>\n",
              "      <th>age</th>\n",
              "      <th>workclass</th>\n",
              "      <th>fnlwgt</th>\n",
              "      <th>education</th>\n",
              "      <th>education-num</th>\n",
              "      <th>marital-status</th>\n",
              "      <th>occupation</th>\n",
              "      <th>relationship</th>\n",
              "      <th>race</th>\n",
              "      <th>sex</th>\n",
              "      <th>capital-gain</th>\n",
              "      <th>capital-loss</th>\n",
              "      <th>hours-per-week</th>\n",
              "      <th>native-country</th>\n",
              "      <th>salary</th>\n",
              "    </tr>\n",
              "  </thead>\n",
              "  <tbody>\n",
              "    <tr>\n",
              "      <th>27</th>\n",
              "      <td>54</td>\n",
              "      <td>NaN</td>\n",
              "      <td>180211</td>\n",
              "      <td>Some-college</td>\n",
              "      <td>10</td>\n",
              "      <td>Married-civ-spouse</td>\n",
              "      <td>NaN</td>\n",
              "      <td>Husband</td>\n",
              "      <td>Asian-Pac-Islander</td>\n",
              "      <td>Male</td>\n",
              "      <td>0</td>\n",
              "      <td>0</td>\n",
              "      <td>60</td>\n",
              "      <td>South</td>\n",
              "      <td>&gt;50K</td>\n",
              "    </tr>\n",
              "    <tr>\n",
              "      <th>61</th>\n",
              "      <td>32</td>\n",
              "      <td>NaN</td>\n",
              "      <td>293936</td>\n",
              "      <td>7th-8th</td>\n",
              "      <td>4</td>\n",
              "      <td>Married-spouse-absent</td>\n",
              "      <td>NaN</td>\n",
              "      <td>Not-in-family</td>\n",
              "      <td>White</td>\n",
              "      <td>Male</td>\n",
              "      <td>0</td>\n",
              "      <td>0</td>\n",
              "      <td>40</td>\n",
              "      <td>?</td>\n",
              "      <td>&lt;=50K</td>\n",
              "    </tr>\n",
              "    <tr>\n",
              "      <th>69</th>\n",
              "      <td>25</td>\n",
              "      <td>NaN</td>\n",
              "      <td>200681</td>\n",
              "      <td>Some-college</td>\n",
              "      <td>10</td>\n",
              "      <td>Never-married</td>\n",
              "      <td>NaN</td>\n",
              "      <td>Own-child</td>\n",
              "      <td>White</td>\n",
              "      <td>Male</td>\n",
              "      <td>0</td>\n",
              "      <td>0</td>\n",
              "      <td>40</td>\n",
              "      <td>United-States</td>\n",
              "      <td>&lt;=50K</td>\n",
              "    </tr>\n",
              "    <tr>\n",
              "      <th>77</th>\n",
              "      <td>67</td>\n",
              "      <td>NaN</td>\n",
              "      <td>212759</td>\n",
              "      <td>10th</td>\n",
              "      <td>6</td>\n",
              "      <td>Married-civ-spouse</td>\n",
              "      <td>NaN</td>\n",
              "      <td>Husband</td>\n",
              "      <td>White</td>\n",
              "      <td>Male</td>\n",
              "      <td>0</td>\n",
              "      <td>0</td>\n",
              "      <td>2</td>\n",
              "      <td>United-States</td>\n",
              "      <td>&lt;=50K</td>\n",
              "    </tr>\n",
              "    <tr>\n",
              "      <th>106</th>\n",
              "      <td>17</td>\n",
              "      <td>NaN</td>\n",
              "      <td>304873</td>\n",
              "      <td>10th</td>\n",
              "      <td>6</td>\n",
              "      <td>Never-married</td>\n",
              "      <td>NaN</td>\n",
              "      <td>Own-child</td>\n",
              "      <td>White</td>\n",
              "      <td>Female</td>\n",
              "      <td>34095</td>\n",
              "      <td>0</td>\n",
              "      <td>32</td>\n",
              "      <td>United-States</td>\n",
              "      <td>&lt;=50K</td>\n",
              "    </tr>\n",
              "  </tbody>\n",
              "</table>\n",
              "</div>"
            ],
            "text/plain": [
              "     age workclass  fnlwgt     education  education-num  \\\n",
              "27    54       NaN  180211  Some-college             10   \n",
              "61    32       NaN  293936       7th-8th              4   \n",
              "69    25       NaN  200681  Some-college             10   \n",
              "77    67       NaN  212759          10th              6   \n",
              "106   17       NaN  304873          10th              6   \n",
              "\n",
              "            marital-status occupation   relationship                race  \\\n",
              "27      Married-civ-spouse        NaN        Husband  Asian-Pac-Islander   \n",
              "61   Married-spouse-absent        NaN  Not-in-family               White   \n",
              "69           Never-married        NaN      Own-child               White   \n",
              "77      Married-civ-spouse        NaN        Husband               White   \n",
              "106          Never-married        NaN      Own-child               White   \n",
              "\n",
              "        sex  capital-gain  capital-loss  hours-per-week native-country salary  \n",
              "27     Male             0             0              60          South   >50K  \n",
              "61     Male             0             0              40              ?  <=50K  \n",
              "69     Male             0             0              40  United-States  <=50K  \n",
              "77     Male             0             0               2  United-States  <=50K  \n",
              "106  Female         34095             0              32  United-States  <=50K  "
            ]
          },
          "execution_count": 740,
          "metadata": {},
          "output_type": "execute_result"
        }
      ],
      "source": [
        "# Display the rows where 'workclass' is NaN\n",
        "rows_workclass_na = df[df['workclass'].isnull()]\n",
        "rows_workclass_na.head()"
      ]
    },
    {
      "cell_type": "markdown",
      "id": "310ccd61",
      "metadata": {
        "id": "310ccd61"
      },
      "source": [
        "From the table provided, it is evident that when the 'workclass' feature is absent, the 'occupation' feature is also absent. Consequently, the absence of 'occupation' appears to occur randomly. To address this issue, the following approach will be employed:\n",
        "\n",
        "First, we will populate the missing 'workclass' values with its mode (the most frequent value). Subsequently, we will fill in the missing 'occupation' values with the value that has the highest frequency within the context of the 'workclass' mode."
      ]
    },
    {
      "cell_type": "code",
      "execution_count": null,
      "id": "039dea02",
      "metadata": {
        "scrolled": true,
        "id": "039dea02",
        "outputId": "bc6c063f-1da7-4575-96d8-d2fdcef9d771"
      },
      "outputs": [
        {
          "data": {
            "text/plain": [
              "0    Private\n",
              "Name: workclass, dtype: object"
            ]
          },
          "execution_count": 741,
          "metadata": {},
          "output_type": "execute_result"
        }
      ],
      "source": [
        "df['workclass'].mode()"
      ]
    },
    {
      "cell_type": "code",
      "execution_count": null,
      "id": "9870a7f2",
      "metadata": {
        "scrolled": true,
        "id": "9870a7f2",
        "outputId": "65c24623-3ac1-45a8-f12f-f9b88eb371d7"
      },
      "outputs": [
        {
          "data": {
            "text/plain": [
              "0    Craft-repair\n",
              "Name: occupation, dtype: object"
            ]
          },
          "execution_count": 742,
          "metadata": {},
          "output_type": "execute_result"
        }
      ],
      "source": [
        "# Occupations where 'workclass' is ' Private'\n",
        "temp = df['occupation'][df['workclass']=='Private']\n",
        "\n",
        "temp.mode()"
      ]
    },
    {
      "cell_type": "code",
      "execution_count": null,
      "id": "f354cedf",
      "metadata": {
        "scrolled": true,
        "id": "f354cedf",
        "outputId": "a60158a6-6355-4184-e898-b7151d974c07"
      },
      "outputs": [
        {
          "data": {
            "text/plain": [
              "0"
            ]
          },
          "execution_count": 743,
          "metadata": {},
          "output_type": "execute_result"
        }
      ],
      "source": [
        "# Fill 'workclass' missing values with ' Private' and 'occupation' missing values with 'Craft-repair'\n",
        "df['workclass'].fillna(df['workclass'].mode()[0], inplace=True)\n",
        "df['workclass'].isnull().sum()"
      ]
    },
    {
      "cell_type": "code",
      "execution_count": null,
      "id": "d249b52d",
      "metadata": {
        "id": "d249b52d",
        "outputId": "75983351-d65a-433a-c3c8-5117e72c29da"
      },
      "outputs": [
        {
          "data": {
            "text/plain": [
              "array(['State-gov', 'Self-emp-not-inc', 'Private', 'Federal-gov',\n",
              "       'Local-gov', 'Self-emp-inc', 'Without-pay', 'Never-worked'],\n",
              "      dtype=object)"
            ]
          },
          "execution_count": 744,
          "metadata": {},
          "output_type": "execute_result"
        }
      ],
      "source": [
        "# Check the whitespaces has been removed\n",
        "df['workclass'].unique()"
      ]
    },
    {
      "cell_type": "code",
      "execution_count": null,
      "id": "7e0b760c",
      "metadata": {
        "id": "7e0b760c"
      },
      "outputs": [],
      "source": [
        "df['occupation'].fillna('Craft-repair', inplace=True)"
      ]
    },
    {
      "cell_type": "code",
      "execution_count": null,
      "id": "e4faead0",
      "metadata": {
        "id": "e4faead0",
        "outputId": "3d463150-ec49-4156-8b1e-6dff94127d6e"
      },
      "outputs": [
        {
          "data": {
            "text/plain": [
              "0"
            ]
          },
          "execution_count": 746,
          "metadata": {},
          "output_type": "execute_result"
        }
      ],
      "source": [
        "df['occupation'].isnull().sum()"
      ]
    },
    {
      "cell_type": "code",
      "execution_count": null,
      "id": "02cfb38e",
      "metadata": {
        "id": "02cfb38e",
        "outputId": "6de13f8c-d10d-4124-ecb3-a40d410f256e"
      },
      "outputs": [
        {
          "data": {
            "text/plain": [
              "0"
            ]
          },
          "execution_count": 747,
          "metadata": {},
          "output_type": "execute_result"
        }
      ],
      "source": [
        "df['native-country'].fillna(df['native-country'].mode(), inplace=True)\n",
        "df['native-country'].isnull().sum()"
      ]
    },
    {
      "cell_type": "code",
      "execution_count": null,
      "id": "78245ceb",
      "metadata": {
        "id": "78245ceb",
        "outputId": "ff0f3311-0210-494b-eb39-a816745ff7c6"
      },
      "outputs": [
        {
          "name": "stdout",
          "output_type": "stream",
          "text": [
            "           feature  num_missing_data\n",
            "0              age              0.00\n",
            "1        workclass              0.00\n",
            "2           fnlwgt              0.00\n",
            "3        education              0.00\n",
            "4    education-num              0.00\n",
            "5   marital-status              0.00\n",
            "6       occupation              0.00\n",
            "7     relationship              0.00\n",
            "8             race              0.00\n",
            "9              sex              0.00\n",
            "10    capital-gain              0.00\n",
            "11    capital-loss              0.00\n",
            "12  hours-per-week              0.00\n",
            "13  native-country              1.79\n",
            "14          salary              0.00\n"
          ]
        }
      ],
      "source": [
        "# Check again to detect any missing values\n",
        "\n",
        "columns_list = df.columns.tolist()\n",
        "\n",
        "values = []\n",
        "for i in columns_list :\n",
        "    num = round(df[df[i] == '?'].shape[0] * 100 / df.shape[0], 2)\n",
        "    values.append(num)\n",
        "\n",
        "result = pd.DataFrame({'feature': columns_list, 'num_missing_data': values})\n",
        "print(result)"
      ]
    },
    {
      "cell_type": "markdown",
      "id": "faeb69ac",
      "metadata": {
        "id": "faeb69ac"
      },
      "source": [
        " <a id=\"17\"></a>\n",
        " #### 2.3.3 Data Visualisation"
      ]
    },
    {
      "cell_type": "code",
      "execution_count": null,
      "id": "55c8768b",
      "metadata": {
        "scrolled": true,
        "id": "55c8768b",
        "outputId": "58fbbf7d-0297-4730-df32-cefbcfefd208"
      },
      "outputs": [
        {
          "name": "stdout",
          "output_type": "stream",
          "text": [
            "workclass\n",
            "Private             24532\n",
            "Self-emp-not-inc     2541\n",
            "Local-gov            2093\n",
            "State-gov            1298\n",
            "Self-emp-inc         1116\n",
            "Federal-gov           960\n",
            "Without-pay            14\n",
            "Never-worked            7\n",
            "Name: count, dtype: int64\n"
          ]
        },
        {
          "data": {
            "image/png": "[encoded data removed]",
            "text/plain": [
              "<Figure size 1000x1000 with 1 Axes>"
            ]
          },
          "metadata": {},
          "output_type": "display_data"
        }
      ],
      "source": [
        "print(df.workclass.value_counts())\n",
        "\n",
        "plt.figure(figsize=(10,10))\n",
        "df.workclass.value_counts().plot.pie(colors=['#016A70','#A2C579','#FFFFDD','#D2DE32'],autopct='%1.1f%%',\n",
        "                                     startangle=90)\n",
        "plt.show()"
      ]
    },
    {
      "cell_type": "code",
      "execution_count": null,
      "id": "cc92e002",
      "metadata": {
        "scrolled": true,
        "id": "cc92e002",
        "outputId": "6e09dd34-0655-42cc-ad47-fc9a7e429779"
      },
      "outputs": [
        {
          "name": "stdout",
          "output_type": "stream",
          "text": [
            "education\n",
            "HS-grad         10501\n",
            "Some-college     7291\n",
            "Bachelors        5355\n",
            "Masters          1723\n",
            "Assoc-voc        1382\n",
            "11th             1175\n",
            "Assoc-acdm       1067\n",
            "10th              933\n",
            "7th-8th           646\n",
            "Prof-school       576\n",
            "9th               514\n",
            "12th              433\n",
            "Doctorate         413\n",
            "5th-6th           333\n",
            "1st-4th           168\n",
            "Preschool          51\n",
            "Name: count, dtype: int64\n"
          ]
        },
        {
          "data": {
            "image/png": "[encoded data removed]",
            "text/plain": [
              "<Figure size 1000x1000 with 1 Axes>"
            ]
          },
          "metadata": {},
          "output_type": "display_data"
        }
      ],
      "source": [
        "print(df.education.value_counts())\n",
        "\n",
        "plt.figure(figsize=(10,10))\n",
        "df.education.value_counts().plot.pie(colors=['#E74646','#FA9884','#FFB4B4','#C7E9B0',\n",
        "                                                       '#A4BC92','#A0C49D','#C4D7B2','#F7FFE5'],autopct='%1.1f%%',startangle=90)\n",
        "\n",
        "plt.title(\"Education\")\n",
        "plt.show()"
      ]
    },
    {
      "cell_type": "code",
      "execution_count": null,
      "id": "2b529fe9",
      "metadata": {
        "id": "2b529fe9",
        "outputId": "fbfefc8d-fa65-4adb-a5c2-afdc48e4082c"
      },
      "outputs": [
        {
          "name": "stderr",
          "output_type": "stream",
          "text": [
            "/Users/szuyingpan/anaconda3/lib/python3.11/site-packages/seaborn/_oldcore.py:1498: FutureWarning: is_categorical_dtype is deprecated and will be removed in a future version. Use isinstance(dtype, CategoricalDtype) instead\n",
            "  if pd.api.types.is_categorical_dtype(vector):\n",
            "/Users/szuyingpan/anaconda3/lib/python3.11/site-packages/seaborn/_oldcore.py:1498: FutureWarning: is_categorical_dtype is deprecated and will be removed in a future version. Use isinstance(dtype, CategoricalDtype) instead\n",
            "  if pd.api.types.is_categorical_dtype(vector):\n",
            "/Users/szuyingpan/anaconda3/lib/python3.11/site-packages/seaborn/_oldcore.py:1498: FutureWarning: is_categorical_dtype is deprecated and will be removed in a future version. Use isinstance(dtype, CategoricalDtype) instead\n",
            "  if pd.api.types.is_categorical_dtype(vector):\n",
            "/Users/szuyingpan/anaconda3/lib/python3.11/site-packages/seaborn/_oldcore.py:1498: FutureWarning: is_categorical_dtype is deprecated and will be removed in a future version. Use isinstance(dtype, CategoricalDtype) instead\n",
            "  if pd.api.types.is_categorical_dtype(vector):\n",
            "/Users/szuyingpan/anaconda3/lib/python3.11/site-packages/seaborn/_oldcore.py:1498: FutureWarning: is_categorical_dtype is deprecated and will be removed in a future version. Use isinstance(dtype, CategoricalDtype) instead\n",
            "  if pd.api.types.is_categorical_dtype(vector):\n",
            "/Users/szuyingpan/anaconda3/lib/python3.11/site-packages/seaborn/_oldcore.py:1119: FutureWarning: use_inf_as_na option is deprecated and will be removed in a future version. Convert inf values to NaN before operating instead.\n",
            "  with pd.option_context('mode.use_inf_as_na', True):\n"
          ]
        },
        {
          "data": {
            "text/plain": [
              "<Axes: xlabel='sex', ylabel='Count'>"
            ]
          },
          "execution_count": 751,
          "metadata": {},
          "output_type": "execute_result"
        },
        {
          "data": {
            "image/png": "[encoded data removed]",
            "text/plain": [
              "<Figure size 1500x500 with 1 Axes>"
            ]
          },
          "metadata": {},
          "output_type": "display_data"
        }
      ],
      "source": [
        "# Compare male and female salary regarding to >50K vs <=50K\n",
        "\n",
        "plt.figure(figsize=(15,5))\n",
        "sns.histplot(data=df, x=\"sex\", shrink=.7, multiple='dodge', hue='salary', palette='mako')"
      ]
    },
    {
      "cell_type": "markdown",
      "id": "9c358c06",
      "metadata": {
        "id": "9c358c06"
      },
      "source": [
        "There are very few women having an income of greater than 50k in comparison with men."
      ]
    },
    {
      "cell_type": "code",
      "execution_count": null,
      "id": "dc0ccc98",
      "metadata": {
        "id": "dc0ccc98"
      },
      "outputs": [],
      "source": [
        "# Sex vs age vs salary\n",
        "\n",
        "def draw_boxen_plot(feature, hue=None):\n",
        "    fig = plt.figure(figsize=(8, 8))\n",
        "    ax = fig.gca()\n",
        "    sns.boxenplot(data=df, x='salary', y=feature, ax=ax, hue=hue)\n",
        "    sns.set_style('whitegrid')\n",
        "    ax.set_title('Salary VS '+feature.title())"
      ]
    },
    {
      "cell_type": "code",
      "execution_count": null,
      "id": "64d5888b",
      "metadata": {
        "scrolled": true,
        "id": "64d5888b",
        "outputId": "10ab30e1-66a1-4865-f390-fb4f47e08fcf"
      },
      "outputs": [
        {
          "name": "stderr",
          "output_type": "stream",
          "text": [
            "/Users/szuyingpan/anaconda3/lib/python3.11/site-packages/seaborn/_oldcore.py:1498: FutureWarning: is_categorical_dtype is deprecated and will be removed in a future version. Use isinstance(dtype, CategoricalDtype) instead\n",
            "  if pd.api.types.is_categorical_dtype(vector):\n",
            "/Users/szuyingpan/anaconda3/lib/python3.11/site-packages/seaborn/_oldcore.py:1498: FutureWarning: is_categorical_dtype is deprecated and will be removed in a future version. Use isinstance(dtype, CategoricalDtype) instead\n",
            "  if pd.api.types.is_categorical_dtype(vector):\n",
            "/Users/szuyingpan/anaconda3/lib/python3.11/site-packages/seaborn/_oldcore.py:1498: FutureWarning: is_categorical_dtype is deprecated and will be removed in a future version. Use isinstance(dtype, CategoricalDtype) instead\n",
            "  if pd.api.types.is_categorical_dtype(vector):\n",
            "/Users/szuyingpan/anaconda3/lib/python3.11/site-packages/seaborn/_oldcore.py:1498: FutureWarning: is_categorical_dtype is deprecated and will be removed in a future version. Use isinstance(dtype, CategoricalDtype) instead\n",
            "  if pd.api.types.is_categorical_dtype(vector):\n",
            "/Users/szuyingpan/anaconda3/lib/python3.11/site-packages/seaborn/categorical.py:1794: FutureWarning: use_inf_as_na option is deprecated and will be removed in a future version. Convert inf values to NaN before operating instead.\n",
            "  with pd.option_context('mode.use_inf_as_na', True):\n",
            "/Users/szuyingpan/anaconda3/lib/python3.11/site-packages/seaborn/categorical.py:1794: FutureWarning: use_inf_as_na option is deprecated and will be removed in a future version. Convert inf values to NaN before operating instead.\n",
            "  with pd.option_context('mode.use_inf_as_na', True):\n",
            "/Users/szuyingpan/anaconda3/lib/python3.11/site-packages/seaborn/categorical.py:1794: FutureWarning: use_inf_as_na option is deprecated and will be removed in a future version. Convert inf values to NaN before operating instead.\n",
            "  with pd.option_context('mode.use_inf_as_na', True):\n",
            "/Users/szuyingpan/anaconda3/lib/python3.11/site-packages/seaborn/categorical.py:1794: FutureWarning: use_inf_as_na option is deprecated and will be removed in a future version. Convert inf values to NaN before operating instead.\n",
            "  with pd.option_context('mode.use_inf_as_na', True):\n"
          ]
        },
        {
          "data": {
            "image/png": "[encoded data removed]",
            "text/plain": [
              "<Figure size 800x800 with 1 Axes>"
            ]
          },
          "metadata": {},
          "output_type": "display_data"
        }
      ],
      "source": [
        "draw_boxen_plot('age', 'sex')"
      ]
    },
    {
      "cell_type": "markdown",
      "id": "02c1edc9",
      "metadata": {
        "id": "02c1edc9"
      },
      "source": [
        "The boxplot graph displays that age of 35 has lower salary; age of 36 to 50 has more higher income."
      ]
    },
    {
      "cell_type": "code",
      "execution_count": null,
      "id": "464eb189",
      "metadata": {
        "id": "464eb189",
        "outputId": "bf801878-3b56-4c27-bd6c-247186c638e8"
      },
      "outputs": [
        {
          "name": "stderr",
          "output_type": "stream",
          "text": [
            "/Users/szuyingpan/anaconda3/lib/python3.11/site-packages/seaborn/_oldcore.py:1498: FutureWarning: is_categorical_dtype is deprecated and will be removed in a future version. Use isinstance(dtype, CategoricalDtype) instead\n",
            "  if pd.api.types.is_categorical_dtype(vector):\n",
            "/Users/szuyingpan/anaconda3/lib/python3.11/site-packages/seaborn/_oldcore.py:1498: FutureWarning: is_categorical_dtype is deprecated and will be removed in a future version. Use isinstance(dtype, CategoricalDtype) instead\n",
            "  if pd.api.types.is_categorical_dtype(vector):\n",
            "/Users/szuyingpan/anaconda3/lib/python3.11/site-packages/seaborn/_oldcore.py:1498: FutureWarning: is_categorical_dtype is deprecated and will be removed in a future version. Use isinstance(dtype, CategoricalDtype) instead\n",
            "  if pd.api.types.is_categorical_dtype(vector):\n",
            "/Users/szuyingpan/anaconda3/lib/python3.11/site-packages/seaborn/_oldcore.py:1498: FutureWarning: is_categorical_dtype is deprecated and will be removed in a future version. Use isinstance(dtype, CategoricalDtype) instead\n",
            "  if pd.api.types.is_categorical_dtype(vector):\n",
            "/Users/szuyingpan/anaconda3/lib/python3.11/site-packages/seaborn/_oldcore.py:1498: FutureWarning: is_categorical_dtype is deprecated and will be removed in a future version. Use isinstance(dtype, CategoricalDtype) instead\n",
            "  if pd.api.types.is_categorical_dtype(vector):\n",
            "/Users/szuyingpan/anaconda3/lib/python3.11/site-packages/seaborn/_oldcore.py:1119: FutureWarning: use_inf_as_na option is deprecated and will be removed in a future version. Convert inf values to NaN before operating instead.\n",
            "  with pd.option_context('mode.use_inf_as_na', True):\n"
          ]
        },
        {
          "data": {
            "text/plain": [
              "<Axes: xlabel='sex', ylabel='Count'>"
            ]
          },
          "execution_count": 754,
          "metadata": {},
          "output_type": "execute_result"
        },
        {
          "data": {
            "image/png": "[encoded data removed]",
            "text/plain": [
              "<Figure size 1500x500 with 1 Axes>"
            ]
          },
          "metadata": {},
          "output_type": "display_data"
        }
      ],
      "source": [
        "# Education between male and female\n",
        "\n",
        "plt.figure(figsize=(15,5))\n",
        "sns.histplot(data=df, x=\"sex\", shrink=.7, multiple='dodge', hue='education', palette='mako')"
      ]
    },
    {
      "cell_type": "markdown",
      "id": "5b6ca050",
      "metadata": {
        "id": "5b6ca050"
      },
      "source": [
        "Both male and female has similar distribution of education level. HS-grad is the highest while some-college fellows behind. Bachelors holds the third position."
      ]
    },
    {
      "cell_type": "code",
      "execution_count": null,
      "id": "ba3e9dd5",
      "metadata": {
        "scrolled": true,
        "id": "ba3e9dd5",
        "outputId": "9270245b-812b-49aa-bd2b-677376f21cf1"
      },
      "outputs": [
        {
          "name": "stderr",
          "output_type": "stream",
          "text": [
            "/Users/szuyingpan/anaconda3/lib/python3.11/site-packages/seaborn/_oldcore.py:1498: FutureWarning: is_categorical_dtype is deprecated and will be removed in a future version. Use isinstance(dtype, CategoricalDtype) instead\n",
            "  if pd.api.types.is_categorical_dtype(vector):\n",
            "/Users/szuyingpan/anaconda3/lib/python3.11/site-packages/seaborn/_oldcore.py:1498: FutureWarning: is_categorical_dtype is deprecated and will be removed in a future version. Use isinstance(dtype, CategoricalDtype) instead\n",
            "  if pd.api.types.is_categorical_dtype(vector):\n",
            "/Users/szuyingpan/anaconda3/lib/python3.11/site-packages/seaborn/_oldcore.py:1498: FutureWarning: is_categorical_dtype is deprecated and will be removed in a future version. Use isinstance(dtype, CategoricalDtype) instead\n",
            "  if pd.api.types.is_categorical_dtype(vector):\n",
            "/Users/szuyingpan/anaconda3/lib/python3.11/site-packages/seaborn/_oldcore.py:1498: FutureWarning: is_categorical_dtype is deprecated and will be removed in a future version. Use isinstance(dtype, CategoricalDtype) instead\n",
            "  if pd.api.types.is_categorical_dtype(vector):\n"
          ]
        },
        {
          "data": {
            "text/plain": [
              "Text(0.5, 1.0, 'Workclass VS Salary')"
            ]
          },
          "execution_count": 755,
          "metadata": {},
          "output_type": "execute_result"
        },
        {
          "data": {
            "image/png": "[encoded data removed]",
            "text/plain": [
              "<Figure size 1000x600 with 1 Axes>"
            ]
          },
          "metadata": {},
          "output_type": "display_data"
        }
      ],
      "source": [
        "# Workclass VS Salary\n",
        "\n",
        "fig = plt.figure(figsize=(10, 6))\n",
        "ax = sns.countplot(data=df,y='workclass', hue='salary', palette='mako')\n",
        "ax.set_title('Workclass VS Salary')"
      ]
    },
    {
      "cell_type": "markdown",
      "id": "2d2a51a4",
      "metadata": {
        "id": "2d2a51a4"
      },
      "source": [
        "Compared to individuals in other work classes, those employed in the private sector have greater opportunities to earn an annual income exceeding 50K. An interesting observation to highlight is that, among the various work classes, only in Self-emp-inc is the number of individuals earning <=50K higher than those earning less 50K."
      ]
    },
    {
      "cell_type": "code",
      "execution_count": null,
      "id": "313e7cf0",
      "metadata": {
        "id": "313e7cf0",
        "outputId": "89b76f18-5f35-446a-eff0-a83cf8f8848f"
      },
      "outputs": [
        {
          "name": "stderr",
          "output_type": "stream",
          "text": [
            "/Users/szuyingpan/anaconda3/lib/python3.11/site-packages/seaborn/_oldcore.py:1498: FutureWarning: is_categorical_dtype is deprecated and will be removed in a future version. Use isinstance(dtype, CategoricalDtype) instead\n",
            "  if pd.api.types.is_categorical_dtype(vector):\n",
            "/Users/szuyingpan/anaconda3/lib/python3.11/site-packages/seaborn/_oldcore.py:1498: FutureWarning: is_categorical_dtype is deprecated and will be removed in a future version. Use isinstance(dtype, CategoricalDtype) instead\n",
            "  if pd.api.types.is_categorical_dtype(vector):\n",
            "/Users/szuyingpan/anaconda3/lib/python3.11/site-packages/seaborn/_oldcore.py:1498: FutureWarning: is_categorical_dtype is deprecated and will be removed in a future version. Use isinstance(dtype, CategoricalDtype) instead\n",
            "  if pd.api.types.is_categorical_dtype(vector):\n",
            "/Users/szuyingpan/anaconda3/lib/python3.11/site-packages/seaborn/_oldcore.py:1498: FutureWarning: is_categorical_dtype is deprecated and will be removed in a future version. Use isinstance(dtype, CategoricalDtype) instead\n",
            "  if pd.api.types.is_categorical_dtype(vector):\n"
          ]
        },
        {
          "data": {
            "text/plain": [
              "Text(0.5, 1.0, 'Education VS Salary')"
            ]
          },
          "execution_count": 756,
          "metadata": {},
          "output_type": "execute_result"
        },
        {
          "data": {
            "image/png": "[encoded data removed]",
            "text/plain": [
              "<Figure size 1500x800 with 1 Axes>"
            ]
          },
          "metadata": {},
          "output_type": "display_data"
        }
      ],
      "source": [
        "# Education VS Salary\n",
        "\n",
        "plt.figure(figsize=(15, 8))\n",
        "ax = sns.countplot(data=df,y='education', hue='salary',palette='viridis')\n",
        "ax.set_title('Education VS Salary')"
      ]
    },
    {
      "cell_type": "markdown",
      "id": "2ada3c01",
      "metadata": {
        "id": "2ada3c01"
      },
      "source": [
        "Most of employees who holds masters, doctorate or prof-shcool categories have higher income which means >=50k, whereas those with HS-grads or the other qualification typically earn an income of <50k."
      ]
    },
    {
      "cell_type": "code",
      "execution_count": null,
      "id": "5d16eec3",
      "metadata": {
        "scrolled": true,
        "id": "5d16eec3",
        "outputId": "0269860b-e0b5-4756-f84b-2039d80a2d21"
      },
      "outputs": [
        {
          "name": "stderr",
          "output_type": "stream",
          "text": [
            "/Users/szuyingpan/anaconda3/lib/python3.11/site-packages/seaborn/_oldcore.py:1498: FutureWarning: is_categorical_dtype is deprecated and will be removed in a future version. Use isinstance(dtype, CategoricalDtype) instead\n",
            "  if pd.api.types.is_categorical_dtype(vector):\n",
            "/Users/szuyingpan/anaconda3/lib/python3.11/site-packages/seaborn/_oldcore.py:1498: FutureWarning: is_categorical_dtype is deprecated and will be removed in a future version. Use isinstance(dtype, CategoricalDtype) instead\n",
            "  if pd.api.types.is_categorical_dtype(vector):\n",
            "/Users/szuyingpan/anaconda3/lib/python3.11/site-packages/seaborn/_oldcore.py:1498: FutureWarning: is_categorical_dtype is deprecated and will be removed in a future version. Use isinstance(dtype, CategoricalDtype) instead\n",
            "  if pd.api.types.is_categorical_dtype(vector):\n",
            "/Users/szuyingpan/anaconda3/lib/python3.11/site-packages/seaborn/_oldcore.py:1498: FutureWarning: is_categorical_dtype is deprecated and will be removed in a future version. Use isinstance(dtype, CategoricalDtype) instead\n",
            "  if pd.api.types.is_categorical_dtype(vector):\n"
          ]
        },
        {
          "data": {
            "text/plain": [
              "Text(0.5, 1.0, 'Race VS Salary')"
            ]
          },
          "execution_count": 757,
          "metadata": {},
          "output_type": "execute_result"
        },
        {
          "data": {
            "image/png": "[encoded data removed]",
            "text/plain": [
              "<Figure size 1500x800 with 1 Axes>"
            ]
          },
          "metadata": {},
          "output_type": "display_data"
        }
      ],
      "source": [
        "# Race VS Salary\n",
        "plt.figure(figsize=(15, 8))\n",
        "ax = sns.countplot(data=df,y='race', hue='salary', palette='mako')\n",
        "ax.set_title('Race VS Salary')"
      ]
    },
    {
      "cell_type": "code",
      "execution_count": null,
      "id": "f5afccca",
      "metadata": {
        "id": "f5afccca",
        "outputId": "1dc53ca9-1b83-4db7-a5ca-8a3cc7e65068"
      },
      "outputs": [
        {
          "name": "stderr",
          "output_type": "stream",
          "text": [
            "/Users/szuyingpan/anaconda3/lib/python3.11/site-packages/seaborn/_oldcore.py:1498: FutureWarning: is_categorical_dtype is deprecated and will be removed in a future version. Use isinstance(dtype, CategoricalDtype) instead\n",
            "  if pd.api.types.is_categorical_dtype(vector):\n",
            "/Users/szuyingpan/anaconda3/lib/python3.11/site-packages/seaborn/_oldcore.py:1498: FutureWarning: is_categorical_dtype is deprecated and will be removed in a future version. Use isinstance(dtype, CategoricalDtype) instead\n",
            "  if pd.api.types.is_categorical_dtype(vector):\n",
            "/Users/szuyingpan/anaconda3/lib/python3.11/site-packages/seaborn/_oldcore.py:1498: FutureWarning: is_categorical_dtype is deprecated and will be removed in a future version. Use isinstance(dtype, CategoricalDtype) instead\n",
            "  if pd.api.types.is_categorical_dtype(vector):\n",
            "/Users/szuyingpan/anaconda3/lib/python3.11/site-packages/seaborn/_oldcore.py:1498: FutureWarning: is_categorical_dtype is deprecated and will be removed in a future version. Use isinstance(dtype, CategoricalDtype) instead\n",
            "  if pd.api.types.is_categorical_dtype(vector):\n"
          ]
        },
        {
          "data": {
            "text/plain": [
              "Text(0.5, 1.0, 'Marital-status VS Salary')"
            ]
          },
          "execution_count": 758,
          "metadata": {},
          "output_type": "execute_result"
        },
        {
          "data": {
            "image/png": "[encoded data removed]",
            "text/plain": [
              "<Figure size 1500x800 with 1 Axes>"
            ]
          },
          "metadata": {},
          "output_type": "display_data"
        }
      ],
      "source": [
        "# Marital-status VS Salary\n",
        "plt.figure(figsize=(15, 8))\n",
        "ax = sns.countplot(data=df,y='marital-status', hue='salary')\n",
        "sns.set_palette('Accent_r')\n",
        "ax.set_title('Marital-status VS Salary')"
      ]
    },
    {
      "cell_type": "code",
      "execution_count": null,
      "id": "d31c6ec8",
      "metadata": {
        "scrolled": true,
        "id": "d31c6ec8",
        "outputId": "206c817a-bfd7-4327-909f-176f23053480"
      },
      "outputs": [
        {
          "name": "stderr",
          "output_type": "stream",
          "text": [
            "/Users/szuyingpan/anaconda3/lib/python3.11/site-packages/seaborn/_oldcore.py:1498: FutureWarning: is_categorical_dtype is deprecated and will be removed in a future version. Use isinstance(dtype, CategoricalDtype) instead\n",
            "  if pd.api.types.is_categorical_dtype(vector):\n",
            "/Users/szuyingpan/anaconda3/lib/python3.11/site-packages/seaborn/_oldcore.py:1498: FutureWarning: is_categorical_dtype is deprecated and will be removed in a future version. Use isinstance(dtype, CategoricalDtype) instead\n",
            "  if pd.api.types.is_categorical_dtype(vector):\n",
            "/Users/szuyingpan/anaconda3/lib/python3.11/site-packages/seaborn/_oldcore.py:1498: FutureWarning: is_categorical_dtype is deprecated and will be removed in a future version. Use isinstance(dtype, CategoricalDtype) instead\n",
            "  if pd.api.types.is_categorical_dtype(vector):\n",
            "/Users/szuyingpan/anaconda3/lib/python3.11/site-packages/seaborn/_oldcore.py:1498: FutureWarning: is_categorical_dtype is deprecated and will be removed in a future version. Use isinstance(dtype, CategoricalDtype) instead\n",
            "  if pd.api.types.is_categorical_dtype(vector):\n",
            "/Users/szuyingpan/anaconda3/lib/python3.11/site-packages/seaborn/_oldcore.py:1498: FutureWarning: is_categorical_dtype is deprecated and will be removed in a future version. Use isinstance(dtype, CategoricalDtype) instead\n",
            "  if pd.api.types.is_categorical_dtype(vector):\n",
            "/Users/szuyingpan/anaconda3/lib/python3.11/site-packages/seaborn/_oldcore.py:1119: FutureWarning: use_inf_as_na option is deprecated and will be removed in a future version. Convert inf values to NaN before operating instead.\n",
            "  with pd.option_context('mode.use_inf_as_na', True):\n"
          ]
        },
        {
          "data": {
            "text/plain": [
              "<Axes: xlabel='sex', ylabel='Count'>"
            ]
          },
          "execution_count": 759,
          "metadata": {},
          "output_type": "execute_result"
        },
        {
          "data": {
            "image/png": "[encoded data removed]",
            "text/plain": [
              "<Figure size 1500x500 with 1 Axes>"
            ]
          },
          "metadata": {},
          "output_type": "display_data"
        }
      ],
      "source": [
        "# Compare male and female salary regarding to relationship\n",
        "\n",
        "plt.figure(figsize=(15,5))\n",
        "sns.histplot(data=df, x=\"sex\", shrink=.7, multiple='dodge', hue='relationship', palette='muted')\n"
      ]
    },
    {
      "cell_type": "markdown",
      "id": "c856d913",
      "metadata": {
        "id": "c856d913"
      },
      "source": [
        "This is very interesting to see that the majority male relationship is husband.\n",
        "On the other hand, the majority female are not-in-family or unmarried."
      ]
    },
    {
      "cell_type": "code",
      "execution_count": null,
      "id": "fa7c05a6",
      "metadata": {
        "scrolled": true,
        "id": "fa7c05a6",
        "outputId": "9b028ec2-83b7-426f-839b-c140775a48d9"
      },
      "outputs": [
        {
          "name": "stderr",
          "output_type": "stream",
          "text": [
            "/Users/szuyingpan/anaconda3/lib/python3.11/site-packages/seaborn/_oldcore.py:1498: FutureWarning: is_categorical_dtype is deprecated and will be removed in a future version. Use isinstance(dtype, CategoricalDtype) instead\n",
            "  if pd.api.types.is_categorical_dtype(vector):\n",
            "/Users/szuyingpan/anaconda3/lib/python3.11/site-packages/seaborn/_oldcore.py:1498: FutureWarning: is_categorical_dtype is deprecated and will be removed in a future version. Use isinstance(dtype, CategoricalDtype) instead\n",
            "  if pd.api.types.is_categorical_dtype(vector):\n",
            "/Users/szuyingpan/anaconda3/lib/python3.11/site-packages/seaborn/_oldcore.py:1498: FutureWarning: is_categorical_dtype is deprecated and will be removed in a future version. Use isinstance(dtype, CategoricalDtype) instead\n",
            "  if pd.api.types.is_categorical_dtype(vector):\n",
            "/Users/szuyingpan/anaconda3/lib/python3.11/site-packages/seaborn/_oldcore.py:1498: FutureWarning: is_categorical_dtype is deprecated and will be removed in a future version. Use isinstance(dtype, CategoricalDtype) instead\n",
            "  if pd.api.types.is_categorical_dtype(vector):\n",
            "/Users/szuyingpan/anaconda3/lib/python3.11/site-packages/seaborn/_oldcore.py:1119: FutureWarning: use_inf_as_na option is deprecated and will be removed in a future version. Convert inf values to NaN before operating instead.\n",
            "  with pd.option_context('mode.use_inf_as_na', True):\n"
          ]
        },
        {
          "data": {
            "text/plain": [
              "<Axes: xlabel='hours-per-week', ylabel='Density'>"
            ]
          },
          "execution_count": 760,
          "metadata": {},
          "output_type": "execute_result"
        },
        {
          "data": {
            "image/png": "[encoded data removed]",
            "text/plain": [
              "<Figure size 640x480 with 1 Axes>"
            ]
          },
          "metadata": {},
          "output_type": "display_data"
        }
      ],
      "source": [
        "# Compare the working hours between male vs female\n",
        "\n",
        "sns.kdeplot(x=df['hours-per-week'],hue=df['salary'],palette='viridis')"
      ]
    },
    {
      "cell_type": "markdown",
      "id": "7e527205",
      "metadata": {
        "id": "7e527205"
      },
      "source": [
        "The majority of employees work 40 hours a week, regardless of whether their income is above or below $50K."
      ]
    },
    {
      "cell_type": "markdown",
      "id": "63437e71",
      "metadata": {
        "id": "63437e71"
      },
      "source": [
        "<a id=\"14\"></a>\n",
        "### 2.4 Data Pre-processing\n",
        "\n",
        "[Back to the top](#0)<a id=\"0\"></a>"
      ]
    },
    {
      "cell_type": "code",
      "execution_count": null,
      "id": "f0d1c00d",
      "metadata": {
        "id": "f0d1c00d"
      },
      "outputs": [],
      "source": [
        "def crosstab_counts(feature, normalize=False):\n",
        "    return pd.crosstab(\n",
        "        index=df[feature],\n",
        "        columns='Counts(%)',\n",
        "        normalize=normalize\n",
        "    ).apply(lambda x: round(x*100, 4)).sort_values(by='Counts(%)', ascending=False)"
      ]
    },
    {
      "cell_type": "code",
      "execution_count": null,
      "id": "29e33f38",
      "metadata": {
        "scrolled": true,
        "id": "29e33f38",
        "outputId": "ef76cc8a-ea8d-48fe-cdd6-a8a2b2921c90"
      },
      "outputs": [
        {
          "data": {
            "text/html": [
              "<div>\n",
              "<style scoped>\n",
              "    .dataframe tbody tr th:only-of-type {\n",
              "        vertical-align: middle;\n",
              "    }\n",
              "\n",
              "    .dataframe tbody tr th {\n",
              "        vertical-align: top;\n",
              "    }\n",
              "\n",
              "    .dataframe thead th {\n",
              "        text-align: right;\n",
              "    }\n",
              "</style>\n",
              "<table border=\"1\" class=\"dataframe\">\n",
              "  <thead>\n",
              "    <tr style=\"text-align: right;\">\n",
              "      <th>col_0</th>\n",
              "      <th>Counts(%)</th>\n",
              "    </tr>\n",
              "    <tr>\n",
              "      <th>education</th>\n",
              "      <th></th>\n",
              "    </tr>\n",
              "  </thead>\n",
              "  <tbody>\n",
              "    <tr>\n",
              "      <th>HS-grad</th>\n",
              "      <td>32.2502</td>\n",
              "    </tr>\n",
              "    <tr>\n",
              "      <th>Some-college</th>\n",
              "      <td>22.3918</td>\n",
              "    </tr>\n",
              "    <tr>\n",
              "      <th>Bachelors</th>\n",
              "      <td>16.4461</td>\n",
              "    </tr>\n",
              "    <tr>\n",
              "      <th>Masters</th>\n",
              "      <td>5.2916</td>\n",
              "    </tr>\n",
              "    <tr>\n",
              "      <th>Assoc-voc</th>\n",
              "      <td>4.2443</td>\n",
              "    </tr>\n",
              "    <tr>\n",
              "      <th>11th</th>\n",
              "      <td>3.6086</td>\n",
              "    </tr>\n",
              "    <tr>\n",
              "      <th>Assoc-acdm</th>\n",
              "      <td>3.2769</td>\n",
              "    </tr>\n",
              "    <tr>\n",
              "      <th>10th</th>\n",
              "      <td>2.8654</td>\n",
              "    </tr>\n",
              "    <tr>\n",
              "      <th>7th-8th</th>\n",
              "      <td>1.9840</td>\n",
              "    </tr>\n",
              "    <tr>\n",
              "      <th>Prof-school</th>\n",
              "      <td>1.7690</td>\n",
              "    </tr>\n",
              "    <tr>\n",
              "      <th>9th</th>\n",
              "      <td>1.5786</td>\n",
              "    </tr>\n",
              "    <tr>\n",
              "      <th>12th</th>\n",
              "      <td>1.3298</td>\n",
              "    </tr>\n",
              "    <tr>\n",
              "      <th>Doctorate</th>\n",
              "      <td>1.2684</td>\n",
              "    </tr>\n",
              "    <tr>\n",
              "      <th>5th-6th</th>\n",
              "      <td>1.0227</td>\n",
              "    </tr>\n",
              "    <tr>\n",
              "      <th>1st-4th</th>\n",
              "      <td>0.5160</td>\n",
              "    </tr>\n",
              "    <tr>\n",
              "      <th>Preschool</th>\n",
              "      <td>0.1566</td>\n",
              "    </tr>\n",
              "  </tbody>\n",
              "</table>\n",
              "</div>"
            ],
            "text/plain": [
              "col_0         Counts(%)\n",
              "education              \n",
              "HS-grad         32.2502\n",
              "Some-college    22.3918\n",
              "Bachelors       16.4461\n",
              "Masters          5.2916\n",
              "Assoc-voc        4.2443\n",
              "11th             3.6086\n",
              "Assoc-acdm       3.2769\n",
              "10th             2.8654\n",
              "7th-8th          1.9840\n",
              "Prof-school      1.7690\n",
              "9th              1.5786\n",
              "12th             1.3298\n",
              "Doctorate        1.2684\n",
              "5th-6th          1.0227\n",
              "1st-4th          0.5160\n",
              "Preschool        0.1566"
            ]
          },
          "execution_count": 762,
          "metadata": {},
          "output_type": "execute_result"
        }
      ],
      "source": [
        "# education counts\n",
        "\n",
        "crosstab_counts('education', True)"
      ]
    },
    {
      "cell_type": "code",
      "execution_count": null,
      "id": "fefd87ec",
      "metadata": {
        "id": "fefd87ec",
        "outputId": "08ffc67c-be65-4bb1-c053-d04204a39db1"
      },
      "outputs": [
        {
          "data": {
            "text/html": [
              "<div>\n",
              "<style scoped>\n",
              "    .dataframe tbody tr th:only-of-type {\n",
              "        vertical-align: middle;\n",
              "    }\n",
              "\n",
              "    .dataframe tbody tr th {\n",
              "        vertical-align: top;\n",
              "    }\n",
              "\n",
              "    .dataframe thead th {\n",
              "        text-align: right;\n",
              "    }\n",
              "</style>\n",
              "<table border=\"1\" class=\"dataframe\">\n",
              "  <thead>\n",
              "    <tr style=\"text-align: right;\">\n",
              "      <th>race</th>\n",
              "      <th>White</th>\n",
              "      <th>Black</th>\n",
              "      <th>Asian-Pac-Islander</th>\n",
              "      <th>Amer-Indian-Eskimo</th>\n",
              "      <th>Other</th>\n",
              "    </tr>\n",
              "    <tr>\n",
              "      <th>col_0</th>\n",
              "      <th></th>\n",
              "      <th></th>\n",
              "      <th></th>\n",
              "      <th></th>\n",
              "      <th></th>\n",
              "    </tr>\n",
              "  </thead>\n",
              "  <tbody>\n",
              "    <tr>\n",
              "      <th>Counts(%)</th>\n",
              "      <td>85.4274</td>\n",
              "      <td>9.5943</td>\n",
              "      <td>3.1909</td>\n",
              "      <td>0.9551</td>\n",
              "      <td>0.8323</td>\n",
              "    </tr>\n",
              "  </tbody>\n",
              "</table>\n",
              "</div>"
            ],
            "text/plain": [
              "race         White   Black  Asian-Pac-Islander  Amer-Indian-Eskimo   Other\n",
              "col_0                                                                     \n",
              "Counts(%)  85.4274  9.5943              3.1909              0.9551  0.8323"
            ]
          },
          "execution_count": 763,
          "metadata": {},
          "output_type": "execute_result"
        }
      ],
      "source": [
        "# race counts\n",
        "\n",
        "crosstab_counts('race', True).T"
      ]
    },
    {
      "cell_type": "code",
      "execution_count": null,
      "id": "e858cab6",
      "metadata": {
        "id": "e858cab6",
        "outputId": "49b3d379-0ac0-4ede-da15-afb8572998aa"
      },
      "outputs": [
        {
          "data": {
            "text/html": [
              "<div>\n",
              "<style scoped>\n",
              "    .dataframe tbody tr th:only-of-type {\n",
              "        vertical-align: middle;\n",
              "    }\n",
              "\n",
              "    .dataframe tbody tr th {\n",
              "        vertical-align: top;\n",
              "    }\n",
              "\n",
              "    .dataframe thead th {\n",
              "        text-align: right;\n",
              "    }\n",
              "</style>\n",
              "<table border=\"1\" class=\"dataframe\">\n",
              "  <thead>\n",
              "    <tr style=\"text-align: right;\">\n",
              "      <th>sex</th>\n",
              "      <th>Female</th>\n",
              "      <th>Male</th>\n",
              "      <th>All</th>\n",
              "    </tr>\n",
              "    <tr>\n",
              "      <th>salary</th>\n",
              "      <th></th>\n",
              "      <th></th>\n",
              "      <th></th>\n",
              "    </tr>\n",
              "  </thead>\n",
              "  <tbody>\n",
              "    <tr>\n",
              "      <th>&lt;=50K</th>\n",
              "      <td>0.294586</td>\n",
              "      <td>0.464605</td>\n",
              "      <td>0.75919</td>\n",
              "    </tr>\n",
              "    <tr>\n",
              "      <th>&gt;50K</th>\n",
              "      <td>0.036209</td>\n",
              "      <td>0.204601</td>\n",
              "      <td>0.24081</td>\n",
              "    </tr>\n",
              "    <tr>\n",
              "      <th>All</th>\n",
              "      <td>0.330795</td>\n",
              "      <td>0.669205</td>\n",
              "      <td>1.00000</td>\n",
              "    </tr>\n",
              "  </tbody>\n",
              "</table>\n",
              "</div>"
            ],
            "text/plain": [
              "sex       Female      Male      All\n",
              "salary                             \n",
              "<=50K   0.294586  0.464605  0.75919\n",
              ">50K    0.036209  0.204601  0.24081\n",
              "All     0.330795  0.669205  1.00000"
            ]
          },
          "execution_count": 764,
          "metadata": {},
          "output_type": "execute_result"
        }
      ],
      "source": [
        "# Sex vs salary\n",
        "\n",
        "pd.crosstab(\n",
        "    index=df['salary'],\n",
        "    columns=df['sex'],\n",
        "    margins=True,\n",
        "    normalize=True\n",
        ")"
      ]
    },
    {
      "cell_type": "code",
      "execution_count": null,
      "id": "94d76b50",
      "metadata": {
        "id": "94d76b50",
        "outputId": "e5120e1d-e3c0-4a14-b2cd-d7f90b955296"
      },
      "outputs": [
        {
          "data": {
            "text/html": [
              "<div>\n",
              "<style scoped>\n",
              "    .dataframe tbody tr th:only-of-type {\n",
              "        vertical-align: middle;\n",
              "    }\n",
              "\n",
              "    .dataframe tbody tr th {\n",
              "        vertical-align: top;\n",
              "    }\n",
              "\n",
              "    .dataframe thead th {\n",
              "        text-align: right;\n",
              "    }\n",
              "</style>\n",
              "<table border=\"1\" class=\"dataframe\">\n",
              "  <thead>\n",
              "    <tr style=\"text-align: right;\">\n",
              "      <th>race</th>\n",
              "      <th>Amer-Indian-Eskimo</th>\n",
              "      <th>Asian-Pac-Islander</th>\n",
              "      <th>Black</th>\n",
              "      <th>Other</th>\n",
              "      <th>White</th>\n",
              "      <th>All</th>\n",
              "    </tr>\n",
              "    <tr>\n",
              "      <th>salary</th>\n",
              "      <th></th>\n",
              "      <th></th>\n",
              "      <th></th>\n",
              "      <th></th>\n",
              "      <th></th>\n",
              "      <th></th>\n",
              "    </tr>\n",
              "  </thead>\n",
              "  <tbody>\n",
              "    <tr>\n",
              "      <th>&lt;=50K</th>\n",
              "      <td>0.008446</td>\n",
              "      <td>0.023433</td>\n",
              "      <td>0.084058</td>\n",
              "      <td>0.007555</td>\n",
              "      <td>0.635699</td>\n",
              "      <td>0.75919</td>\n",
              "    </tr>\n",
              "    <tr>\n",
              "      <th>&gt;50K</th>\n",
              "      <td>0.001106</td>\n",
              "      <td>0.008476</td>\n",
              "      <td>0.011885</td>\n",
              "      <td>0.000768</td>\n",
              "      <td>0.218574</td>\n",
              "      <td>0.24081</td>\n",
              "    </tr>\n",
              "    <tr>\n",
              "      <th>All</th>\n",
              "      <td>0.009551</td>\n",
              "      <td>0.031909</td>\n",
              "      <td>0.095943</td>\n",
              "      <td>0.008323</td>\n",
              "      <td>0.854274</td>\n",
              "      <td>1.00000</td>\n",
              "    </tr>\n",
              "  </tbody>\n",
              "</table>\n",
              "</div>"
            ],
            "text/plain": [
              "race    Amer-Indian-Eskimo  Asian-Pac-Islander     Black     Other     White  \\\n",
              "salary                                                                         \n",
              "<=50K             0.008446            0.023433  0.084058  0.007555  0.635699   \n",
              ">50K              0.001106            0.008476  0.011885  0.000768  0.218574   \n",
              "All               0.009551            0.031909  0.095943  0.008323  0.854274   \n",
              "\n",
              "race        All  \n",
              "salary           \n",
              "<=50K   0.75919  \n",
              ">50K    0.24081  \n",
              "All     1.00000  "
            ]
          },
          "execution_count": 765,
          "metadata": {},
          "output_type": "execute_result"
        }
      ],
      "source": [
        "# Race vs salary\n",
        "\n",
        "pd.crosstab(\n",
        "    index=df['salary'],\n",
        "    columns=df['race'],\n",
        "    margins=True,\n",
        "    normalize=True\n",
        ")"
      ]
    },
    {
      "cell_type": "code",
      "execution_count": null,
      "id": "25f9eb2b",
      "metadata": {
        "id": "25f9eb2b",
        "outputId": "92b66832-44a9-46bb-d06e-8534355f2061"
      },
      "outputs": [
        {
          "data": {
            "text/html": [
              "<div>\n",
              "<style scoped>\n",
              "    .dataframe tbody tr th:only-of-type {\n",
              "        vertical-align: middle;\n",
              "    }\n",
              "\n",
              "    .dataframe tbody tr th {\n",
              "        vertical-align: top;\n",
              "    }\n",
              "\n",
              "    .dataframe thead th {\n",
              "        text-align: right;\n",
              "    }\n",
              "</style>\n",
              "<table border=\"1\" class=\"dataframe\">\n",
              "  <thead>\n",
              "    <tr style=\"text-align: right;\">\n",
              "      <th>relationship</th>\n",
              "      <th>Husband</th>\n",
              "      <th>Not-in-family</th>\n",
              "      <th>Other-relative</th>\n",
              "      <th>Own-child</th>\n",
              "      <th>Unmarried</th>\n",
              "      <th>Wife</th>\n",
              "      <th>All</th>\n",
              "    </tr>\n",
              "    <tr>\n",
              "      <th>salary</th>\n",
              "      <th></th>\n",
              "      <th></th>\n",
              "      <th></th>\n",
              "      <th></th>\n",
              "      <th></th>\n",
              "      <th></th>\n",
              "      <th></th>\n",
              "    </tr>\n",
              "  </thead>\n",
              "  <tbody>\n",
              "    <tr>\n",
              "      <th>&lt;=50K</th>\n",
              "      <td>0.223427</td>\n",
              "      <td>0.228771</td>\n",
              "      <td>0.028992</td>\n",
              "      <td>0.153589</td>\n",
              "      <td>0.099137</td>\n",
              "      <td>0.025276</td>\n",
              "      <td>0.75919</td>\n",
              "    </tr>\n",
              "    <tr>\n",
              "      <th>&gt;50K</th>\n",
              "      <td>0.181751</td>\n",
              "      <td>0.026289</td>\n",
              "      <td>0.001136</td>\n",
              "      <td>0.002058</td>\n",
              "      <td>0.006695</td>\n",
              "      <td>0.022880</td>\n",
              "      <td>0.24081</td>\n",
              "    </tr>\n",
              "    <tr>\n",
              "      <th>All</th>\n",
              "      <td>0.405178</td>\n",
              "      <td>0.255060</td>\n",
              "      <td>0.030128</td>\n",
              "      <td>0.155646</td>\n",
              "      <td>0.105832</td>\n",
              "      <td>0.048156</td>\n",
              "      <td>1.00000</td>\n",
              "    </tr>\n",
              "  </tbody>\n",
              "</table>\n",
              "</div>"
            ],
            "text/plain": [
              "relationship   Husband  Not-in-family  Other-relative  Own-child  Unmarried  \\\n",
              "salary                                                                        \n",
              "<=50K         0.223427       0.228771        0.028992   0.153589   0.099137   \n",
              ">50K          0.181751       0.026289        0.001136   0.002058   0.006695   \n",
              "All           0.405178       0.255060        0.030128   0.155646   0.105832   \n",
              "\n",
              "relationship      Wife      All  \n",
              "salary                           \n",
              "<=50K         0.025276  0.75919  \n",
              ">50K          0.022880  0.24081  \n",
              "All           0.048156  1.00000  "
            ]
          },
          "execution_count": 766,
          "metadata": {},
          "output_type": "execute_result"
        }
      ],
      "source": [
        "# Relationship vs salary\n",
        "\n",
        "pd.crosstab(\n",
        "    index=df['salary'],\n",
        "    columns=df['relationship'],\n",
        "    margins=True,\n",
        "    normalize=True\n",
        ")"
      ]
    },
    {
      "cell_type": "code",
      "execution_count": null,
      "id": "b9e65324",
      "metadata": {
        "id": "b9e65324",
        "outputId": "29f99e07-cd5e-49dc-ffbd-b9b8e2579922"
      },
      "outputs": [
        {
          "data": {
            "text/html": [
              "<div>\n",
              "<style scoped>\n",
              "    .dataframe tbody tr th:only-of-type {\n",
              "        vertical-align: middle;\n",
              "    }\n",
              "\n",
              "    .dataframe tbody tr th {\n",
              "        vertical-align: top;\n",
              "    }\n",
              "\n",
              "    .dataframe thead th {\n",
              "        text-align: right;\n",
              "    }\n",
              "</style>\n",
              "<table border=\"1\" class=\"dataframe\">\n",
              "  <thead>\n",
              "    <tr style=\"text-align: right;\">\n",
              "      <th>sex</th>\n",
              "      <th>Female</th>\n",
              "      <th>Male</th>\n",
              "      <th>All</th>\n",
              "    </tr>\n",
              "    <tr>\n",
              "      <th>marital-status</th>\n",
              "      <th></th>\n",
              "      <th></th>\n",
              "      <th></th>\n",
              "    </tr>\n",
              "  </thead>\n",
              "  <tbody>\n",
              "    <tr>\n",
              "      <th>Divorced</th>\n",
              "      <td>2672</td>\n",
              "      <td>1771</td>\n",
              "      <td>4443</td>\n",
              "    </tr>\n",
              "    <tr>\n",
              "      <th>Married-AF-spouse</th>\n",
              "      <td>14</td>\n",
              "      <td>9</td>\n",
              "      <td>23</td>\n",
              "    </tr>\n",
              "    <tr>\n",
              "      <th>Married-civ-spouse</th>\n",
              "      <td>1657</td>\n",
              "      <td>13319</td>\n",
              "      <td>14976</td>\n",
              "    </tr>\n",
              "    <tr>\n",
              "      <th>Married-spouse-absent</th>\n",
              "      <td>205</td>\n",
              "      <td>213</td>\n",
              "      <td>418</td>\n",
              "    </tr>\n",
              "    <tr>\n",
              "      <th>Never-married</th>\n",
              "      <td>4767</td>\n",
              "      <td>5916</td>\n",
              "      <td>10683</td>\n",
              "    </tr>\n",
              "    <tr>\n",
              "      <th>Separated</th>\n",
              "      <td>631</td>\n",
              "      <td>394</td>\n",
              "      <td>1025</td>\n",
              "    </tr>\n",
              "    <tr>\n",
              "      <th>Widowed</th>\n",
              "      <td>825</td>\n",
              "      <td>168</td>\n",
              "      <td>993</td>\n",
              "    </tr>\n",
              "    <tr>\n",
              "      <th>All</th>\n",
              "      <td>10771</td>\n",
              "      <td>21790</td>\n",
              "      <td>32561</td>\n",
              "    </tr>\n",
              "  </tbody>\n",
              "</table>\n",
              "</div>"
            ],
            "text/plain": [
              "sex                    Female   Male    All\n",
              "marital-status                             \n",
              "Divorced                 2672   1771   4443\n",
              "Married-AF-spouse          14      9     23\n",
              "Married-civ-spouse       1657  13319  14976\n",
              "Married-spouse-absent     205    213    418\n",
              "Never-married            4767   5916  10683\n",
              "Separated                 631    394   1025\n",
              "Widowed                   825    168    993\n",
              "All                     10771  21790  32561"
            ]
          },
          "execution_count": 767,
          "metadata": {},
          "output_type": "execute_result"
        }
      ],
      "source": [
        "# Marital-status vs salary\n",
        "\n",
        "pd.crosstab(\n",
        "    index=df['marital-status'],\n",
        "    columns=df['sex'],\n",
        "    margins=True\n",
        ")"
      ]
    },
    {
      "cell_type": "code",
      "execution_count": null,
      "id": "c908e43f",
      "metadata": {
        "scrolled": true,
        "id": "c908e43f",
        "outputId": "b608a0ac-41b2-411c-cda9-a58dc2de9687"
      },
      "outputs": [
        {
          "data": {
            "text/html": [
              "<div>\n",
              "<style scoped>\n",
              "    .dataframe tbody tr th:only-of-type {\n",
              "        vertical-align: middle;\n",
              "    }\n",
              "\n",
              "    .dataframe tbody tr th {\n",
              "        vertical-align: top;\n",
              "    }\n",
              "\n",
              "    .dataframe thead th {\n",
              "        text-align: right;\n",
              "    }\n",
              "</style>\n",
              "<table border=\"1\" class=\"dataframe\">\n",
              "  <thead>\n",
              "    <tr style=\"text-align: right;\">\n",
              "      <th>sex</th>\n",
              "      <th>Female</th>\n",
              "      <th>Male</th>\n",
              "      <th>All</th>\n",
              "    </tr>\n",
              "    <tr>\n",
              "      <th>salary</th>\n",
              "      <th></th>\n",
              "      <th></th>\n",
              "      <th></th>\n",
              "    </tr>\n",
              "  </thead>\n",
              "  <tbody>\n",
              "    <tr>\n",
              "      <th>&lt;=50K</th>\n",
              "      <td>9592</td>\n",
              "      <td>15128</td>\n",
              "      <td>24720</td>\n",
              "    </tr>\n",
              "    <tr>\n",
              "      <th>&gt;50K</th>\n",
              "      <td>1179</td>\n",
              "      <td>6662</td>\n",
              "      <td>7841</td>\n",
              "    </tr>\n",
              "    <tr>\n",
              "      <th>All</th>\n",
              "      <td>10771</td>\n",
              "      <td>21790</td>\n",
              "      <td>32561</td>\n",
              "    </tr>\n",
              "  </tbody>\n",
              "</table>\n",
              "</div>"
            ],
            "text/plain": [
              "sex     Female   Male    All\n",
              "salary                      \n",
              "<=50K     9592  15128  24720\n",
              ">50K      1179   6662   7841\n",
              "All      10771  21790  32561"
            ]
          },
          "execution_count": 768,
          "metadata": {},
          "output_type": "execute_result"
        }
      ],
      "source": [
        "# Sex vs salary\n",
        "\n",
        "pd.crosstab(\n",
        "    index=df['salary'],\n",
        "    columns=df['sex'],\n",
        "    margins=True\n",
        ")"
      ]
    },
    {
      "cell_type": "code",
      "execution_count": null,
      "id": "67e090c6",
      "metadata": {
        "id": "67e090c6",
        "outputId": "d62a761a-1d56-4c6a-91c0-bd784f43aef1"
      },
      "outputs": [
        {
          "data": {
            "text/html": [
              "<div>\n",
              "<style scoped>\n",
              "    .dataframe tbody tr th:only-of-type {\n",
              "        vertical-align: middle;\n",
              "    }\n",
              "\n",
              "    .dataframe tbody tr th {\n",
              "        vertical-align: top;\n",
              "    }\n",
              "\n",
              "    .dataframe thead th {\n",
              "        text-align: right;\n",
              "    }\n",
              "</style>\n",
              "<table border=\"1\" class=\"dataframe\">\n",
              "  <thead>\n",
              "    <tr style=\"text-align: right;\">\n",
              "      <th>sex</th>\n",
              "      <th>Female</th>\n",
              "      <th>Male</th>\n",
              "      <th>All</th>\n",
              "    </tr>\n",
              "    <tr>\n",
              "      <th>occupation</th>\n",
              "      <th></th>\n",
              "      <th></th>\n",
              "      <th></th>\n",
              "    </tr>\n",
              "  </thead>\n",
              "  <tbody>\n",
              "    <tr>\n",
              "      <th>Adm-clerical</th>\n",
              "      <td>2537</td>\n",
              "      <td>1233</td>\n",
              "      <td>3770</td>\n",
              "    </tr>\n",
              "    <tr>\n",
              "      <th>Armed-Forces</th>\n",
              "      <td>0</td>\n",
              "      <td>9</td>\n",
              "      <td>9</td>\n",
              "    </tr>\n",
              "    <tr>\n",
              "      <th>Craft-repair</th>\n",
              "      <td>1063</td>\n",
              "      <td>4879</td>\n",
              "      <td>5942</td>\n",
              "    </tr>\n",
              "    <tr>\n",
              "      <th>Exec-managerial</th>\n",
              "      <td>1159</td>\n",
              "      <td>2907</td>\n",
              "      <td>4066</td>\n",
              "    </tr>\n",
              "    <tr>\n",
              "      <th>Farming-fishing</th>\n",
              "      <td>65</td>\n",
              "      <td>929</td>\n",
              "      <td>994</td>\n",
              "    </tr>\n",
              "    <tr>\n",
              "      <th>Handlers-cleaners</th>\n",
              "      <td>164</td>\n",
              "      <td>1206</td>\n",
              "      <td>1370</td>\n",
              "    </tr>\n",
              "    <tr>\n",
              "      <th>Machine-op-inspct</th>\n",
              "      <td>550</td>\n",
              "      <td>1452</td>\n",
              "      <td>2002</td>\n",
              "    </tr>\n",
              "    <tr>\n",
              "      <th>Other-service</th>\n",
              "      <td>1800</td>\n",
              "      <td>1495</td>\n",
              "      <td>3295</td>\n",
              "    </tr>\n",
              "    <tr>\n",
              "      <th>Priv-house-serv</th>\n",
              "      <td>141</td>\n",
              "      <td>8</td>\n",
              "      <td>149</td>\n",
              "    </tr>\n",
              "    <tr>\n",
              "      <th>Prof-specialty</th>\n",
              "      <td>1515</td>\n",
              "      <td>2625</td>\n",
              "      <td>4140</td>\n",
              "    </tr>\n",
              "    <tr>\n",
              "      <th>Protective-serv</th>\n",
              "      <td>76</td>\n",
              "      <td>573</td>\n",
              "      <td>649</td>\n",
              "    </tr>\n",
              "    <tr>\n",
              "      <th>Sales</th>\n",
              "      <td>1263</td>\n",
              "      <td>2387</td>\n",
              "      <td>3650</td>\n",
              "    </tr>\n",
              "    <tr>\n",
              "      <th>Tech-support</th>\n",
              "      <td>348</td>\n",
              "      <td>580</td>\n",
              "      <td>928</td>\n",
              "    </tr>\n",
              "    <tr>\n",
              "      <th>Transport-moving</th>\n",
              "      <td>90</td>\n",
              "      <td>1507</td>\n",
              "      <td>1597</td>\n",
              "    </tr>\n",
              "    <tr>\n",
              "      <th>All</th>\n",
              "      <td>10771</td>\n",
              "      <td>21790</td>\n",
              "      <td>32561</td>\n",
              "    </tr>\n",
              "  </tbody>\n",
              "</table>\n",
              "</div>"
            ],
            "text/plain": [
              "sex                Female   Male    All\n",
              "occupation                             \n",
              "Adm-clerical         2537   1233   3770\n",
              "Armed-Forces            0      9      9\n",
              "Craft-repair         1063   4879   5942\n",
              "Exec-managerial      1159   2907   4066\n",
              "Farming-fishing        65    929    994\n",
              "Handlers-cleaners     164   1206   1370\n",
              "Machine-op-inspct     550   1452   2002\n",
              "Other-service        1800   1495   3295\n",
              "Priv-house-serv       141      8    149\n",
              "Prof-specialty       1515   2625   4140\n",
              "Protective-serv        76    573    649\n",
              "Sales                1263   2387   3650\n",
              "Tech-support          348    580    928\n",
              "Transport-moving       90   1507   1597\n",
              "All                 10771  21790  32561"
            ]
          },
          "execution_count": 769,
          "metadata": {},
          "output_type": "execute_result"
        }
      ],
      "source": [
        "# Sex vs occupation\n",
        "\n",
        "pd.crosstab(\n",
        "    index=df['occupation'],\n",
        "    columns=df['sex'],\n",
        "    margins=True\n",
        ")"
      ]
    },
    {
      "cell_type": "code",
      "execution_count": null,
      "id": "52e5b446",
      "metadata": {
        "id": "52e5b446",
        "outputId": "b6541ac4-ff84-4b77-bed4-90732a09fa47"
      },
      "outputs": [
        {
          "name": "stdout",
          "output_type": "stream",
          "text": [
            "<class 'pandas.core.frame.DataFrame'>\n",
            "RangeIndex: 32561 entries, 0 to 32560\n",
            "Data columns (total 15 columns):\n",
            " #   Column          Non-Null Count  Dtype\n",
            "---  ------          --------------  -----\n",
            " 0   age             32561 non-null  int64\n",
            " 1   workclass       32561 non-null  int64\n",
            " 2   fnlwgt          32561 non-null  int64\n",
            " 3   education       32561 non-null  int64\n",
            " 4   education-num   32561 non-null  int64\n",
            " 5   marital-status  32561 non-null  int64\n",
            " 6   occupation      32561 non-null  int64\n",
            " 7   relationship    32561 non-null  int64\n",
            " 8   race            32561 non-null  int64\n",
            " 9   sex             32561 non-null  int64\n",
            " 10  capital-gain    32561 non-null  int64\n",
            " 11  capital-loss    32561 non-null  int64\n",
            " 12  hours-per-week  32561 non-null  int64\n",
            " 13  native-country  32561 non-null  int64\n",
            " 14  salary          32561 non-null  int64\n",
            "dtypes: int64(15)\n",
            "memory usage: 3.7 MB\n"
          ]
        }
      ],
      "source": [
        "LE=LabelEncoder()\n",
        "df=df.apply(LE.fit_transform)\n",
        "df.info()"
      ]
    },
    {
      "cell_type": "code",
      "execution_count": null,
      "id": "7657b583",
      "metadata": {
        "id": "7657b583",
        "outputId": "18276c8e-5a9a-4000-a6b1-1c237c4d4ba1"
      },
      "outputs": [
        {
          "data": {
            "text/plain": [
              "<Axes: >"
            ]
          },
          "execution_count": 771,
          "metadata": {},
          "output_type": "execute_result"
        },
        {
          "data": {
            "image/png": "[encoded data removed]",
            "text/plain": [
              "<Figure size 1000x1000 with 2 Axes>"
            ]
          },
          "metadata": {},
          "output_type": "display_data"
        }
      ],
      "source": [
        "# Correlation between variables. We are looking for variables between 0~1 where a value closer to 1 indicates a stronger correlation between the two variables.\n",
        "plt.figure(figsize=(10,10))\n",
        "sns.heatmap(df.corr(),annot=True)"
      ]
    },
    {
      "cell_type": "code",
      "execution_count": null,
      "id": "f1871200",
      "metadata": {
        "id": "f1871200"
      },
      "outputs": [],
      "source": [
        "# normalize_field takes numeric fields and ensure the values are normalized 0 ~ 1\n",
        "\n",
        "def normalize_field(dataset, field_name):\n",
        "    dataset[field_name] = dataset[field_name] / dataset[field_name].max()\n",
        "    return dataset"
      ]
    },
    {
      "cell_type": "code",
      "execution_count": null,
      "id": "e8f4b6e7",
      "metadata": {
        "id": "e8f4b6e7"
      },
      "outputs": [],
      "source": [
        "#one_hot_field takes categorical features and one-hot encode them\n",
        "\n",
        "#def one_hot_field(dataset, field_name):\n",
        "#    field_one_hot = pd.get_dummies(dataset[field_name], prefix=f\"{field_name}=\", prefix_sep=\"\")\n",
        "#    dataset = pd.concat([dataset, field_one_hot], axis=1)\n",
        "#    dataset = dataset.drop([field_name], axis=1)\n",
        "#    return dataset"
      ]
    },
    {
      "cell_type": "code",
      "execution_count": null,
      "id": "c8b422b6",
      "metadata": {
        "id": "c8b422b6"
      },
      "outputs": [],
      "source": [
        "# binary_encode takes categorical features with only two possible values and replaces them with either 1 or 0\n",
        "\n",
        "def binary_encode_field(dataset, field_name, new_name):\n",
        "    unique_values = dataset[field_name].unique()\n",
        "    replace_nums = {field_name: {unique_values[0]: 0, unique_values[1]: 1}}\n",
        "    dataset = dataset.replace(replace_nums)\n",
        "    dataset.columns = dataset.columns.str.replace(field_name, new_name)\n",
        "    return dataset"
      ]
    },
    {
      "cell_type": "code",
      "execution_count": null,
      "id": "c205c965",
      "metadata": {
        "id": "c205c965"
      },
      "outputs": [],
      "source": [
        "# Split the fields into numerical / categorical / binary\n",
        "\n",
        "numerical_fields = [\"age\", \"fnlwgt\", \"education-num\", \"capital-gain\", \"capital-loss\", \"hours-per-week\"]\n",
        "categorical_fields = [\"workclass\", \"education\", \"marital-status\", \"occupation\", \"relationship\", \"race\",\n",
        "                      \"native-country\"]\n",
        "binary_fields = [\"sex\", \"salary\"]\n",
        "new_names = [\"is_female\", \"salary_greater_than_50k\"]"
      ]
    },
    {
      "cell_type": "code",
      "execution_count": null,
      "id": "ebdf1ad6",
      "metadata": {
        "id": "ebdf1ad6"
      },
      "outputs": [],
      "source": [
        "for field in numerical_fields:\n",
        "    df = normalize_field(df, field)"
      ]
    },
    {
      "cell_type": "code",
      "execution_count": null,
      "id": "244c0c38",
      "metadata": {
        "id": "244c0c38"
      },
      "outputs": [],
      "source": [
        "for i, field in enumerate(binary_fields):\n",
        "    df = binary_encode_field(df, field, new_names[i])"
      ]
    },
    {
      "cell_type": "code",
      "execution_count": null,
      "id": "380a61f0",
      "metadata": {
        "id": "380a61f0"
      },
      "outputs": [],
      "source": [
        "#for field in categorical_fields:\n",
        "#    df = one_hot_field(df, field)"
      ]
    },
    {
      "cell_type": "markdown",
      "id": "a03c62d1",
      "metadata": {
        "id": "a03c62d1"
      },
      "source": [
        "## Feature Selection (CW2)\n",
        "### Split dataset in test/train\n",
        "### Feature Scaling"
      ]
    },
    {
      "cell_type": "markdown",
      "id": "92078290",
      "metadata": {
        "id": "92078290"
      },
      "source": [
        "## Modeling ( CW2)"
      ]
    },
    {
      "cell_type": "markdown",
      "id": "e28dfcbc",
      "metadata": {
        "id": "e28dfcbc"
      },
      "source": [
        "## Measure Algorithem Performance (CW2)"
      ]
    },
    {
      "cell_type": "markdown",
      "id": "6e46f698",
      "metadata": {
        "id": "6e46f698"
      },
      "source": [
        "<a id=\"3\"></a>\n",
        "## 3. Key Observations/ Insights\n",
        "\n",
        "[Back to the top](#0)<a id=\"0\"></a>"
      ]
    },
    {
      "cell_type": "markdown",
      "id": "f851585f",
      "metadata": {
        "id": "f851585f"
      },
      "source": [
        "1. When the 'workclass' feature is absent, the 'occupation' feature is also absent. Consequently, the absence of 'occupation' appears to occur randomly. To address this issue, the following approach will be employed: First, we will populate the missing 'workclass' values with its mode (the most frequent value). Subsequently, we will fill in the missing 'occupation' values with the value that has the highest frequency within the context of the 'workclass' mode.\n",
        "\n",
        "\n",
        "2. There are very few women having an income of greater than 50k in comparison with men. Female with >50k is less than 10% of male.\n",
        "\n",
        "3. The boxplot graph displays that age of 35 has lower salary; age of 36 to 50 has more higher income.\n",
        "\n",
        "4. Both male and female has similar distribution of education level. HS-grad is the highest while some-college fellows behind. Bachelors holds the third position.\n",
        "\n",
        "5. This is very interesting to see that the majority male relationship is husband. On the other hand, the majority female are not-in-family or unmarried.\n",
        "\n",
        "6. Compared to individuals in other work classes, those employed in the private sector have greater opportunities to earn an annual income exceeding 50K.\n",
        "\n",
        "7. Among the various work classes, only in Self-emp-inc is the number of individuals earning <=50K higher than those earning less 50K.\n",
        "\n",
        "8. Most of employees who holds masters, doctorate or prof-shcool categories have higher income which means >=50k, whereas those with HS-grads or the other qualification typically earn an income of <50k.\n",
        "\n",
        "9. The majority of employees work 40 hours a week, regardless of whether their income is above or below 50K."
      ]
    },
    {
      "cell_type": "markdown",
      "id": "f3b0f01b",
      "metadata": {
        "id": "f3b0f01b"
      },
      "source": [
        "<a id=\"4\"></a>\n",
        "## 4. Discussion/Critical Analysis (CW2)\n",
        "\n",
        "[Back to the top](#0)<a id=\"0\"></a>"
      ]
    },
    {
      "cell_type": "markdown",
      "id": "7ab75aeb",
      "metadata": {
        "id": "7ab75aeb"
      },
      "source": [
        "<a id=\"5\"></a>\n",
        "## 5. Future Work\n",
        "\n",
        "[Back to the top](#0)<a id=\"0\"></a>"
      ]
    },
    {
      "cell_type": "markdown",
      "id": "43fb4f0b",
      "metadata": {
        "id": "43fb4f0b"
      },
      "source": [
        "- LabelEncoder vs one-hot encoder\n",
        "- Employ binary variables to transform target variables\n",
        "- Explore feature selection methods\n",
        "- Split dataset into train and test\n",
        "- Feature Scaling\n",
        "- Select modeling\n",
        "- Handling imbalance data ( possible)\n",
        "- Overfitting ( possible)\n",
        "- Measure modeling"
      ]
    },
    {
      "cell_type": "markdown",
      "id": "5bb1c6d1",
      "metadata": {
        "id": "5bb1c6d1"
      },
      "source": [
        "\n",
        "<a id=\"6\"></a>\n",
        "## 6. References\n",
        "\n",
        "[Back to the top](#0)<a id=\"0\"></a>\n",
        "\n",
        "* Li Zhe. (04 November, 2010). Research on pay equity and organization efficiency of compensation administration[Online]. Available: https://ieeexplore.ieee.org/document/5657578\n",
        "\n",
        "* Madinah F. Hamidullah and Norma M. Riccucci. ( 12 February, 2020) Public Management Review: Citizens’ perceptions of closing the gender pay gap: an experimental study [Online]. Available: https://www.tandfonline.com/doi/full/10.1080/14719037.2020.1722207\n",
        "\n",
        "<a id=\"7\"></a>\n",
        "## 7. Resources Used\n",
        "\n",
        "[Back to the top](#0)<a id=\"0\"></a>\n",
        "\n",
        "* Barry Becker. Census Income Dataset[Online]. Available: https://archive.ics.uci.edu/dataset/20/census+income\n",
        "\n",
        "* University of Kent. The 100 Year Timeline of Gender Pay Inequality[Onlie]. Available:\n",
        "https://www.postgraduatestudentships.co.uk/news/the-100-year-timeline-of-gender-pay-inequality/154902/\n",
        "\n",
        "* Wikipedia. Equal Pay for Equal Work. Available: https://en.wikipedia.org/wiki/Equal_pay_for_equal_work\n",
        "\n",
        "* Jason Brownlee. (20 August, 2020). How to Choose a Feature Selection Method For Machine Learning[Online].Available: https://machinelearningmastery.com/feature-selection-with-real-and-categorical-data/\n",
        "\n",
        "* Stack Overflow. Strip whitespace from strings in a column. Available: https://stackoverflow.com/questions/43332057/strip-whitespace-from-strings-in-a-column\n",
        "\n",
        "* Stack Overflow, Finding Median list in Python, https://stackoverflow.com/questions/24101524/finding-median-of-list-in-python\n",
        "\n",
        "* Scikit Learn. Feature Selection. https://scikit-learn.org/stable/modules/feature_selection.html\n",
        "\n",
        "* note.nkmk.me.( 2 August, 2023). pandas: Detect and count NaN (missing values) with isnull(), isna(), https://note.nkmk.me/en/python-pandas-nan-judge-count/\n",
        "\n",
        "* Creating Table of Content in Jupyter Notebook.(05 July, 2022) https://medium.com/@ahmetekiz/creating-table-of-contents-in-jupyter-notebook-52a7c696817f#id_token=eyJhbGciOiJSUzI1NiIsImtpZCI6ImY1ZjRiZjQ2ZTUyYjMxZDliNjI0OWY3MzA5YWQwMzM4NDAwNjgwY2QiLCJ0eXAiOiJKV1QifQ.eyJpc3MiOiJodHRwczovL2FjY291bnRzLmdvb2dsZS5jb20iLCJhenAiOiIyMTYyOTYwMzU4MzQtazFrNnFlMDYwczJ0cDJhMmphbTRsamRjbXMwMHN0dGcuYXBwcy5nb29nbGV1c2VyY29udGVudC5jb20iLCJhdWQiOiIyMTYyOTYwMzU4MzQtazFrNnFlMDYwczJ0cDJhMmphbTRsamRjbXMwMHN0dGcuYXBwcy5nb29nbGV1c2VyY29udGVudC5jb20iLCJzdWIiOiIxMTM4MTU2OTg5MDI3ODgzODYyNDQiLCJlbWFpbCI6InN6dXlpbmdwYW4wMTVAZ21haWwuY29tIiwiZW1haWxfdmVyaWZpZWQiOnRydWUsIm5iZiI6MTY5ODkzMTExOCwibmFtZSI6IlN6dS15aW5nIFBhbiIsInBpY3R1cmUiOiJodHRwczovL2xoMy5nb29nbGV1c2VyY29udGVudC5jb20vYS9BQ2c4b2NKQkp3bnNRcWd5OU5nQlBQQllPWGU4U3ZBWlY2RnI2SEh4dm1XMllOblA2UT1zOTYtYyIsImdpdmVuX25hbWUiOiJTenUteWluZyIsImZhbWlseV9uYW1lIjoiUGFuIiwibG9jYWxlIjoiZW4iLCJpYXQiOjE2OTg5MzE0MTgsImV4cCI6MTY5ODkzNTAxOCwianRpIjoiZjI1YTI3NjQyNzNhMDIxNzIwYWIyZmJmOTQ2NTE4YzBhNDdiMjBkYiJ9.qGmKMW0jJblHpOYq4h5tB6o2Uq4me1nE6Sn7xjcRI5eG0cnHLiakOw4-FSkBTWer50Aaxqt2LU9icgmwK85yXkYjPGlLYEI2YOnWrzXFz1bKBCXF2dWzWrUss_9baAXRUmsxtueriw1wc9G6iaVRkjXA-49IEWZGf-QjY3ebnZbWy0yxpVJXN88dHKLk6e5IPOd6zegyiwf1ppiUjXFnaHl25-G-mA9-Ah8UeeGDdaFy71dOc4exonNnsbxl_X6j82Z2MvFdeUM_vkyccZb1bQPYEQF69SNSCbkqZvhQaQHtYGphsOcmmEilMhVAy5iAKDgf5Jm0p9V6-LTVS9MDuA"
      ]
    }
  ],
  "metadata": {
    "kernelspec": {
      "display_name": "Python 3 (ipykernel)",
      "language": "python",
      "name": "python3"
    },
    "language_info": {
      "codemirror_mode": {
        "name": "ipython",
        "version": 3
      },
      "file_extension": ".py",
      "mimetype": "text/x-python",
      "name": "python",
      "nbconvert_exporter": "python",
      "pygments_lexer": "ipython3",
      "version": "3.11.5"
    },
    "toc": {
      "base_numbering": "0",
      "nav_menu": {},
      "number_sections": true,
      "sideBar": true,
      "skip_h1_title": true,
      "title_cell": "Table of Contents",
      "title_sidebar": "Contents",
      "toc_cell": true,
      "toc_position": {
        "height": "calc(100% - 180px)",
        "left": "10px",
        "top": "150px",
        "width": "349.354px"
      },
      "toc_section_display": true,
      "toc_window_display": true
    },
    "toc-autonumbering": false,
    "toc-showtags": false,
    "varInspector": {
      "cols": {
        "lenName": 16,
        "lenType": 16,
        "lenVar": 40
      },
      "kernels_config": {
        "python": {
          "delete_cmd_postfix": "",
          "delete_cmd_prefix": "del ",
          "library": "var_list.py",
          "varRefreshCmd": "print(var_dic_list())"
        },
        "r": {
          "delete_cmd_postfix": ") ",
          "delete_cmd_prefix": "rm(",
          "library": "var_list.r",
          "varRefreshCmd": "cat(var_dic_list()) "
        }
      },
      "oldHeight": 122.854818,
      "position": {
        "height": "40px",
        "left": "1060px",
        "right": "20px",
        "top": "120px",
        "width": "250px"
      },
      "types_to_exclude": [
        "module",
        "function",
        "builtin_function_or_method",
        "instance",
        "_Feature"
      ],
      "varInspector_section_display": "none",
      "window_display": false
    },
    "colab": {
      "provenance": [],
      "include_colab_link": true
    }
  },
  "nbformat": 4,
  "nbformat_minor": 5
}